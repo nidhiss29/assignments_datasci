{
  "nbformat": 4,
  "nbformat_minor": 0,
  "metadata": {
    "colab": {
      "provenance": []
    },
    "kernelspec": {
      "name": "python3",
      "display_name": "Python 3"
    },
    "language_info": {
      "name": "python"
    }
  },
  "cells": [
    {
      "cell_type": "markdown",
      "source": [
        "## **1.\tWhy are functions advantageous to have in your programs?**\n",
        "Functions are an essential concept in programming, including in Python:\n",
        "\n",
        "1. Modularization and Code Organization: Functions allow you to break down a complex problem into smaller, manageable pieces. Each function can represent a specific task or operation,\n",
        "2. Reusability  \n",
        "3. Readability and Maintainability   \n",
        "4. Abstraction and Encapsulation:\n",
        "5. Testing     \n",
        "6. Code Reusability\n",
        "7. Parameterization: Functions can take input parameters, allowing you to create flexible and customizable solutions.\n",
        "8. Collaboration: When working on a larger project, functions allow multiple developers to work on different parts of the code simultaneously, knowing that they are interacting with well-defined interfaces.\n",
        "9. Libraries and Modules: In Python, functions can be grouped into libraries and modules, which can be imported and used in other programs.\n"
      ],
      "metadata": {
        "id": "esaz25UKvhDR"
      }
    },
    {
      "cell_type": "markdown",
      "source": [
        "## **2.\tWhen does the code in a function run: when it's specified or when it's called?**\n",
        "             \n",
        "The code within a function runs when the function is called, not when it is specified or defined. In Python, defining a function involves creating a blueprint or template for a specific set of instructions, but those instructions are executed only when the function is invoked (called) during the runtime of the program.\n",
        "\n"
      ],
      "metadata": {
        "id": "0xz5a0S_wB4z"
      }
    },
    {
      "cell_type": "code",
      "source": [
        "def my_function():\n",
        "  print(\"This is inside the function.\")\n",
        "print(\"This is outside the function.\")\n",
        "my_function()\n"
      ],
      "metadata": {
        "colab": {
          "base_uri": "https://localhost:8080/"
        },
        "id": "iMdP2Y-JwQBH",
        "outputId": "be829736-9a59-4bf2-b8e4-04af13b2b5a6"
      },
      "execution_count": 1,
      "outputs": [
        {
          "output_type": "stream",
          "name": "stdout",
          "text": [
            "This is outside the function.\n",
            "This is inside the function.\n"
          ]
        }
      ]
    },
    {
      "cell_type": "markdown",
      "source": [
        "## **3.\tWhat statement creates a function?**\n",
        "\n",
        "In Python, the `def` statement is used to create a function. The `def` statement defines a function by specifying its name, parameters, and the code block (body) that will be executed when the function is called.\n",
        "\n",
        "Here's the basic syntax :\n",
        "\n",
        "def function_name(parameters):\n",
        "    # Function body\n",
        "    # Code to be executed when the function is called\n",
        "    # ...\n",
        "\n"
      ],
      "metadata": {
        "id": "lWbM5xFbwbJS"
      }
    },
    {
      "cell_type": "markdown",
      "source": [
        "## **4.\tWhat is the difference between a function and a function call?**\n",
        "**1. Function:**\n",
        "   A function is a block of code that performs a specific task or set of tasks. It encapsulates a series of instructions that can be executed whenever the function is called. Functions are defined using the `def` statement, and they can have parameters (inputs) and a return value (output). Functions provide modularity, code reusability, and abstraction.\n",
        "\n",
        "**2. Function Call:**\n",
        "   A function call (also known as invoking a function) is the action of actually using the function that you have defined. It involves providing the necessary arguments (inputs) to the function, which are then used to execute the code within the function body. When a function is called, the program jumps to the function's definition, executes its code, and returns the result (if applicable) back to the caller.\n"
      ],
      "metadata": {
        "id": "F7m_kDIdw1BL"
      }
    },
    {
      "cell_type": "markdown",
      "source": [
        "## **5.\tHow many global scopes are there in a Python program? How many local scopes?**\n",
        "In a Python program, there is one global scope and multiple local scopes.\n",
        "\n",
        "**1. Global Scope:**  The global scope refers to the outermost level of the program, where variables and functions are defined outside of any function or class. Variables defined in the global scope are accessible throughout the entire program.\n",
        "\n",
        "**2. Local Scopes:**  Local scopes are created within functions or blocks of code. Each function or block creates its own local scope. Variables defined within a local scope are only accessible within that specific block.\n",
        "\n",
        "**Example:**\n",
        "\n",
        "\n",
        "\n",
        "\n",
        "\n"
      ],
      "metadata": {
        "id": "9e32axeoxIAM"
      }
    },
    {
      "cell_type": "code",
      "source": [
        "global_variable = 10  # This is a global variable\n",
        "def my_function():\n",
        "    local_variable = 5  # This is a local variable within the function\n",
        "    print(global_variable)\n",
        "    print(local_variable)\n",
        "my_function()"
      ],
      "metadata": {
        "colab": {
          "base_uri": "https://localhost:8080/"
        },
        "id": "ccY4Ua6R2MyM",
        "outputId": "612a3d00-88d7-496b-d4f7-5e8594586d36"
      },
      "execution_count": 7,
      "outputs": [
        {
          "output_type": "stream",
          "name": "stdout",
          "text": [
            "10\n",
            "5\n"
          ]
        }
      ]
    },
    {
      "cell_type": "markdown",
      "source": [
        "## **6.\tWhat happens to variables in a local scope when the function call returns?**\n",
        "\n",
        "When a function call returns in Python, the variables that were defined within the local scope of that function are no longer accessible. This is because local variables have a limited lifetime and scope—they are created when the function is called and destroyed when the function call completes.\n"
      ],
      "metadata": {
        "id": "mAm1TM2Jxo4S"
      }
    },
    {
      "cell_type": "markdown",
      "source": [
        "## **7.\tWhat is the concept of a return value? Is it possible to have a return value in an expression?**\n",
        "\n",
        "\n",
        "\n",
        "The concept of a return value refers to the value that a function provides as output when it is executed. In Python, functions can have a return value, which is a way for the function to communicate information back to the caller.\n",
        " Yes, it is possible to have a return value in an expression. This allows you to directly use the return value of a function within an expression, without the need to assign it to a separate variable first.\n",
        "\n",
        "\n",
        "\n",
        "\n"
      ],
      "metadata": {
        "id": "9z23jXDNxrsE"
      }
    },
    {
      "cell_type": "code",
      "source": [
        "def multiply(a, b):\n",
        "    return a * b\n",
        "result = multiply(4, 6) + 2\n",
        "print(result)"
      ],
      "metadata": {
        "colab": {
          "base_uri": "https://localhost:8080/"
        },
        "id": "L7T-2lvf1G7H",
        "outputId": "a1a0fd9f-cc70-4326-eba1-9cf6f0ce5765"
      },
      "execution_count": 4,
      "outputs": [
        {
          "output_type": "stream",
          "name": "stdout",
          "text": [
            "26\n"
          ]
        }
      ]
    },
    {
      "cell_type": "markdown",
      "source": [
        "## **8.\tIf a function does not have a return statement, what is the return value of a call to that function?**\n",
        "\n",
        "If a function does not have a `return` statement, the return value of a call to that function is `None`. In Python, `None` is a special built-in object that represents the absence of a value or a null value.\n",
        "**EXAMPLE:**   \n",
        "\n",
        "\n",
        "\n",
        "\n"
      ],
      "metadata": {
        "id": "pRgW1w6Ax7Ux"
      }
    },
    {
      "cell_type": "code",
      "source": [
        "def greet(name):\n",
        " print(f\"Hello, {name}!\")\n",
        "result = greet(\"Alice\")\n",
        "print(result)"
      ],
      "metadata": {
        "colab": {
          "base_uri": "https://localhost:8080/"
        },
        "id": "FkCAC3322EBb",
        "outputId": "e0b93c2a-0be0-4995-bc8a-e44c06024e27"
      },
      "execution_count": 6,
      "outputs": [
        {
          "output_type": "stream",
          "name": "stdout",
          "text": [
            "Hello, Alice!\n",
            "None\n"
          ]
        }
      ]
    },
    {
      "cell_type": "markdown",
      "source": [
        "## **9.\tHow do you make a function variable refer to the global variable?**\n",
        "\n",
        "In Python, to make a function variable refer to a global variable, you need to use the `global` keyword within the function. This allows you to explicitly indicate that you want to work with the global variable of the same name, rather than creating a new local variable within the function.\n",
        "\n",
        "Syntax:\n",
        "`global variable_name`\n",
        "\n",
        "Example :\n",
        "\n",
        "\n",
        "\n",
        "\n"
      ],
      "metadata": {
        "id": "ulGDA5aiyd8y"
      }
    },
    {
      "cell_type": "code",
      "source": [
        "global_variable = 10\n",
        "\n",
        "def modify_global():\n",
        "    global global_variable\n",
        "    global_variable = 20\n",
        "\n",
        "print(\"Before function call:\", global_variable)\n",
        "modify_global()\n",
        "print(\"After function call:\", global_variable)"
      ],
      "metadata": {
        "colab": {
          "base_uri": "https://localhost:8080/"
        },
        "id": "qWMZerL8y0FL",
        "outputId": "805f1b7f-70c3-4eba-9e37-6beec575fb8c"
      },
      "execution_count": 2,
      "outputs": [
        {
          "output_type": "stream",
          "name": "stdout",
          "text": [
            "Before function call: 10\n",
            "After function call: 20\n"
          ]
        }
      ]
    },
    {
      "cell_type": "markdown",
      "source": [
        "## **10.\tWhat is the data type of None?**\n",
        "In Python, `None` is a special constant that represents the absence of a value or a null value. It is often used to indicate that a variable or a function does not have a meaningful value or result. The data type of `None` is itself, and it is typically considered a singleton object.\n",
        "\n",
        "Example:\n",
        "\n",
        "\n"
      ],
      "metadata": {
        "id": "PtJ2LUHxyvt3"
      }
    },
    {
      "cell_type": "code",
      "source": [
        "result = None\n",
        "print(type(result))\n"
      ],
      "metadata": {
        "colab": {
          "base_uri": "https://localhost:8080/"
        },
        "id": "wY0iT7Wa0_0Q",
        "outputId": "4c356c5e-a1b4-48cf-c4fe-2108b806fd4c"
      },
      "execution_count": 3,
      "outputs": [
        {
          "output_type": "stream",
          "name": "stdout",
          "text": [
            "<class 'NoneType'>\n"
          ]
        }
      ]
    },
    {
      "cell_type": "markdown",
      "source": [
        "## **11.\tWhat does the sentence import areallyourpetsnamederic do?**\n",
        "The sentence \"import areallyourpetsnamederic\" is not a valid Python import statement and would result in a `ModuleNotFoundError`.\n"
      ],
      "metadata": {
        "id": "NS2P2IrU6NKu"
      }
    },
    {
      "cell_type": "markdown",
      "source": [
        "## **12.\tIf you had a bacon() feature in a spam module, what would you call it after importing spam?**\n",
        "\n",
        "After importing the `spam` module in Python, you would call the `bacon()` function from the `spam` module using the following syntax:\n",
        "\n",
        "\n",
        "\n",
        "```\n",
        "import spam\n",
        "spam.bacon()\n",
        "```\n",
        "\n",
        "\n",
        "\n"
      ],
      "metadata": {
        "id": "ARqF_j1b6PQj"
      }
    },
    {
      "cell_type": "markdown",
      "source": [
        "## **13.\tWhat can you do to save a programme from crashing if it encounters an error?**\n",
        " To prevent a Python program from crashing when it encounters an error, you can use error handling techniques. These techniques allow you to gracefully handle exceptions (errors)\n",
        "1. Try-Except Blocks\n",
        "2. Exception Handling with Multiple Except Block\n",
        "3. Using the `else` Clause\n",
        "4. Using the `finally` Clause\n",
        "5. Exception Base Classes\n",
        "6. Raising Custom Exceptions\n"
      ],
      "metadata": {
        "id": "g8lJ3s3n6oWD"
      }
    },
    {
      "cell_type": "markdown",
      "source": [
        "## **14.\tWhat is the purpose of the try clause? What is the purpose of the except clause?**\n",
        "In Python, the `try` and `except` clauses are used for error handling and exception handling. They provide a way to gracefully handle exceptions (errors)\n",
        "\n",
        "**1. Try Clause:**\n",
        "   The `try` clause is used to enclose the code that might potentially raise an exception. You place the code that you want to monitor for exceptions within this block. If an exception occurs within the `try` block, the program will jump to the corresponding `except` block (if one is defined) to handle the exception.\n",
        "\n",
        "   try:\n",
        "       # Code that might raise an exception\n",
        "       result = 10 / 0  # This will raise a ZeroDivisionError\n",
        "   except ZeroDivisionError:\n",
        "       print(\"Error: Division by zero\")\n",
        "\n",
        "**2. Except Clause:**\n",
        "   The `except` clause follows the `try` clause and defines what actions should be taken if a specific type of exception occurs within the `try` block. When an exception of the specified type occurs, the code within the corresponding `except` block is executed.\n",
        "\n",
        "   try:\n",
        "       # Code that might raise an exception\n",
        "       result = int(\"abc\")  # This will raise a ValueError\n",
        "       except ValueError:\n",
        "       print(\"Error: Invalid value\")\n",
        "       except ZeroDivisionError:\n",
        "       print(\"Error: Division by zero\")```\n"
      ],
      "metadata": {
        "id": "aHm0kQcz7wnm"
      }
    }
  ]
}