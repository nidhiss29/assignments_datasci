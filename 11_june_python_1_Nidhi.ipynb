{
  "nbformat": 4,
  "nbformat_minor": 0,
  "metadata": {
    "colab": {
      "provenance": []
    },
    "kernelspec": {
      "name": "python3",
      "display_name": "Python 3"
    },
    "language_info": {
      "name": "python"
    }
  },
  "cells": [
    {
      "cell_type": "markdown",
      "source": [
        "## **1. What is a lambda function in Python, and how does it differ from a regular function?**\n",
        "\n",
        "A lambda function is a small, anonymous, and inline function that can have any number of arguments but can only have one expression.The primary purpose of a lambda function is to create small, throwaway functions for simple operations.\n",
        "\n",
        "\n",
        "```python\n",
        "lambda arguments: expression\n",
        "```\n",
        "\n",
        "Differences between lambda functions and regular functions:\n",
        "\n",
        "1. Lambda functions are anonymous, meaning they don't have a formal name like regular functions.\n",
        "\n",
        "2. Lambda functions have a more compact syntax compared to regular functions.\n",
        "\n",
        "3. Lambda functions can only contain a single expression, whereas regular functions can contain multiple statements in a block.\n",
        "\n",
        "4. Lambda functions are typically used for simple, one-liner operations, whereas regular functions are better suited for more complex operations.\n",
        "\n",
        "5. Lambda functions are generally defined in a local scope and are often used in situations where they are created and used immediately without being stored in a variable.\n"
      ],
      "metadata": {
        "id": "qMQIv0mMRmxk"
      }
    },
    {
      "cell_type": "markdown",
      "source": [
        "## **2. Can a lambda function in Python have multiple arguments? If yes, how can you define and use them?**\n",
        "\n",
        "Yes, a lambda function in Python can have multiple arguments.Here's the  syntax:\n",
        "\n",
        "```python\n",
        "lambda argument1, argument2, ... : expression\n",
        "```\n",
        "\n",
        "We can define and use lambda functions with multiple arguments in the same way you would with a single argument. They are often used in scenarios where you want to pass a simple function as an argument to higher-order functions like `map()`, `filter()`when you need to operate on multiple elements simultaneously.\n",
        "\n",
        "example:\n",
        "\n",
        "```python\n",
        "list1 = [2, 4, 6, 8]\n",
        "list2 = [3, 5, 7, 9]\n",
        "\n",
        "product = map(lambda x, y: x * y, list1, list2)\n",
        "result_list = list(product)  # result_list will be [6, 20, 42, 72]\n",
        "```\n",
        "\n"
      ],
      "metadata": {
        "id": "MtGjcPFgSaqW"
      }
    },
    {
      "cell_type": "markdown",
      "source": [
        "## **3. How are lambda functions typically used in Python? Provide an example use case.**\n",
        "\n",
        "Lambda functions in Python are typically used in situations where a simple, short, and anonymous function is required for a specific task, especially when working with higher-order functions like `map()` and `sorted()`.\n",
        "\n",
        "\n",
        " use case is when you want to apply a simple transformation to elements of a list using the `map()` function:\n",
        "\n",
        "\n",
        "\n",
        "\n"
      ],
      "metadata": {
        "id": "_DMfOsOJS-9m"
      }
    },
    {
      "cell_type": "code",
      "source": [
        "numbers = [1, 2, 3, 4, 5]\n",
        "squared = map(lambda x: x ** 2, numbers)  # Compute the square of each number\n",
        "squared_list = list(squared)\n",
        "print(squared_list)"
      ],
      "metadata": {
        "colab": {
          "base_uri": "https://localhost:8080/"
        },
        "id": "h47d1WX5UEbh",
        "outputId": "cfd685b3-0b56-4dd9-8b34-c3ca57cd4fd5"
      },
      "execution_count": null,
      "outputs": [
        {
          "output_type": "stream",
          "name": "stdout",
          "text": [
            "[1, 4, 9, 16, 25]\n"
          ]
        }
      ]
    },
    {
      "cell_type": "markdown",
      "source": [
        "## **4. What are the advantages and limitations of lambda functions compared to regular functions in Python?**\n",
        "\n",
        "Advantages of Lambda Functions:\n",
        "\n",
        "1. **Concise**: Lambda functions allow you to define simple functions in a compact and concise manner, without the need to write a full function definition .\n",
        "\n",
        "2. **Anonymous Functions**: Lambda functions are anonymous, meaning they don't require a formal name. This can be useful for small, one-time-use functions.\n",
        "\n",
        "3. **Readability**: For very simple operations, lambda functions can often make the code more readable by keeping the function definition close to where it's used.\n",
        "\n",
        "4. **Higher-Order Functions**: Lambda functions are well-suited for use as arguments to higher-order functions like `map()`, `filter()`, and `sorted()`.\n",
        "\n",
        "Limitations:\n",
        "\n",
        "1. **Single Expression**: Lambda functions can only contain a single expression, which can make them unsuitable for more complex tasks.\n",
        "\n",
        "2. **Limited Naming**: Since lambda functions are anonymous, they can make code harder to understand if the function's purpose isn't clear from the expression alone.\n",
        "\n",
        "3. **No Documentation String**: Lambda functions can't have docstrings (multi-line comments used for documenting functions), which can make it harder for other developers to understand their purpose .\n"
      ],
      "metadata": {
        "id": "nuSwWPK7UMyQ"
      }
    },
    {
      "cell_type": "markdown",
      "source": [
        "## **5. Are lambda functions in Python able to access variables defined outside of their own scope? Explain with an example.**\n",
        "\n",
        "Yes, lambda functions in Python can access variables defined outside of their own scope. This behavior is known as \"lexical scoping\" and it allows lambda functions to capture and use variables from their containing environment.\n",
        "\n",
        " example:\n",
        "\n",
        "\n"
      ],
      "metadata": {
        "id": "O0AIvzhQ9p0C"
      }
    },
    {
      "cell_type": "code",
      "source": [
        "def outer_function(x):\n",
        "  y = 10\n",
        "  inner_lambda = lambda z: x + y + z\n",
        "  return inner_lambda\n",
        "\n",
        "\n",
        "lambda_func = outer_function(5)\n",
        "result = lambda_func(3)\n",
        "print(result)"
      ],
      "metadata": {
        "colab": {
          "base_uri": "https://localhost:8080/"
        },
        "id": "EJsZtrph-PFZ",
        "outputId": "dc7b3301-c5b5-4919-ab55-c519961f6462"
      },
      "execution_count": 1,
      "outputs": [
        {
          "output_type": "stream",
          "name": "stdout",
          "text": [
            "18\n"
          ]
        }
      ]
    },
    {
      "cell_type": "markdown",
      "source": [
        "## **6. Write a lambda function to calculate the square of a given number.**"
      ],
      "metadata": {
        "id": "xCeN6B8R-Zan"
      }
    },
    {
      "cell_type": "code",
      "source": [
        "square = lambda x: x ** 2\n",
        "\n",
        "value = int(input(\"enter value\"))\n",
        "result = square(value)\n",
        "print(result)\n"
      ],
      "metadata": {
        "colab": {
          "base_uri": "https://localhost:8080/"
        },
        "id": "XgaMnomr-dlN",
        "outputId": "d208793e-5633-4f93-aa4b-2c0d3e60198b"
      },
      "execution_count": 2,
      "outputs": [
        {
          "output_type": "stream",
          "name": "stdout",
          "text": [
            "enter value7\n",
            "49\n"
          ]
        }
      ]
    },
    {
      "cell_type": "markdown",
      "source": [
        "## **7. Create a lambda function to find the maximum value in a list of integers.**"
      ],
      "metadata": {
        "id": "hWl6UD8J-rkG"
      }
    },
    {
      "cell_type": "code",
      "source": [
        "find_max = lambda lst: max(lst)\n",
        "numbers = [10, 5, 23, 8, 16, 42]\n",
        "\n",
        "max_value = find_max(numbers)\n",
        "print(max_value)\n"
      ],
      "metadata": {
        "colab": {
          "base_uri": "https://localhost:8080/"
        },
        "id": "xeyWyjKA-u-q",
        "outputId": "5a7e96e3-988f-40b6-cb64-11b50844a7a9"
      },
      "execution_count": 3,
      "outputs": [
        {
          "output_type": "stream",
          "name": "stdout",
          "text": [
            "42\n"
          ]
        }
      ]
    },
    {
      "cell_type": "markdown",
      "source": [
        "## **8. Implement a lambda function to filter out all the even numbers from a list of integers.**"
      ],
      "metadata": {
        "id": "qliZTRza-3Ix"
      }
    },
    {
      "cell_type": "code",
      "source": [
        "filter_even = lambda lst: list(filter(lambda x: x % 2 == 0, lst))\n",
        "numbers = [10, 5, 23, 8, 16, 42]\n",
        "\n",
        "\n",
        "even_numbers = filter_even(numbers)\n",
        "print(even_numbers)\n"
      ],
      "metadata": {
        "colab": {
          "base_uri": "https://localhost:8080/"
        },
        "id": "Fs_kTfNe-8Iq",
        "outputId": "00fb0e6f-dc7c-487a-c211-bf0ffa10e627"
      },
      "execution_count": 5,
      "outputs": [
        {
          "output_type": "stream",
          "name": "stdout",
          "text": [
            "[10, 8, 16, 42]\n"
          ]
        }
      ]
    },
    {
      "cell_type": "markdown",
      "source": [
        "## **9. Write a lambda function to sort a list of strings in ascending order based on the length of each string.**"
      ],
      "metadata": {
        "id": "Z3tXac6p_CcR"
      }
    },
    {
      "cell_type": "code",
      "source": [
        "sort_by_length = lambda lst: sorted(lst, key=lambda x: len(x))\n",
        "words = [\"apple\", \"banana\", \"cherry\", \"date\", \"elderberry\"]\n",
        "\n",
        "sorted_words = sort_by_length(words)\n",
        "print(sorted_words)\n"
      ],
      "metadata": {
        "colab": {
          "base_uri": "https://localhost:8080/"
        },
        "id": "Oda07cp1_IXl",
        "outputId": "2d041ce1-3778-4346-9420-270feb222e6e"
      },
      "execution_count": 6,
      "outputs": [
        {
          "output_type": "stream",
          "name": "stdout",
          "text": [
            "['date', 'apple', 'banana', 'cherry', 'elderberry']\n"
          ]
        }
      ]
    },
    {
      "cell_type": "markdown",
      "source": [
        "## **10. Create a lambda function that takes two lists as input and returns a new list containing the common elements between the two lists.**"
      ],
      "metadata": {
        "id": "zq_xtikc_UFS"
      }
    },
    {
      "cell_type": "code",
      "source": [
        "find_common_elements = lambda list1, list2: list(filter(lambda x: x in list2, list1))\n",
        "\n",
        "list_a = [1, 2, 3, 4, 5]\n",
        "list_b = [3, 4, 5, 6, 7]\n",
        "common_elements = find_common_elements(list_a, list_b)\n",
        "print(common_elements)\n"
      ],
      "metadata": {
        "colab": {
          "base_uri": "https://localhost:8080/"
        },
        "id": "MGZEKGLP_aRi",
        "outputId": "b608caa8-1d3f-464f-9fa1-ae48aaf04a7c"
      },
      "execution_count": 7,
      "outputs": [
        {
          "output_type": "stream",
          "name": "stdout",
          "text": [
            "[3, 4, 5]\n"
          ]
        }
      ]
    },
    {
      "cell_type": "markdown",
      "source": [
        "## **11. Write a recursive function to calculate the factorial of a given positive integer.**"
      ],
      "metadata": {
        "id": "rfrCZ80w_lkc"
      }
    },
    {
      "cell_type": "code",
      "source": [
        "def factorial(n):\n",
        "    if n == 0 or n == 1:\n",
        "        return 1\n",
        "    else:\n",
        "        return n * factorial(n - 1)\n",
        "num = 5\n",
        "result = factorial(num)\n",
        "print(f\"The factorial of {num} is {result}\")\n"
      ],
      "metadata": {
        "colab": {
          "base_uri": "https://localhost:8080/"
        },
        "id": "_OJPZdDz_rlF",
        "outputId": "1e22766f-4f8d-49a2-c8f7-0c70f01b5868"
      },
      "execution_count": 8,
      "outputs": [
        {
          "output_type": "stream",
          "name": "stdout",
          "text": [
            "The factorial of 5 is 120\n"
          ]
        }
      ]
    },
    {
      "cell_type": "markdown",
      "source": [
        "## **12. Implement a recursive function to compute the nth Fibonacci number.**"
      ],
      "metadata": {
        "id": "Jhpq7Yov_xJE"
      }
    },
    {
      "cell_type": "code",
      "source": [
        "def fibonacci(n):\n",
        "    if n <= 0:\n",
        "        return 0\n",
        "    elif n == 1:\n",
        "        return 1\n",
        "    else:\n",
        "        return fibonacci(n - 1) + fibonacci(n - 2)\n",
        "\n",
        "# Test the recursive Fibonacci function\n",
        "num = 7\n",
        "result = fibonacci(num)\n",
        "print(f\"The {num}th Fibonacci number is {result}\")\n"
      ],
      "metadata": {
        "colab": {
          "base_uri": "https://localhost:8080/"
        },
        "id": "LFppdcgo_2Ep",
        "outputId": "1ea71a61-c22e-4f9f-fb5d-616071846815"
      },
      "execution_count": 9,
      "outputs": [
        {
          "output_type": "stream",
          "name": "stdout",
          "text": [
            "The 7th Fibonacci number is 13\n"
          ]
        }
      ]
    },
    {
      "cell_type": "markdown",
      "source": [
        "## **13. Create a recursive function to find the sum of all the elements in a given list.**"
      ],
      "metadata": {
        "id": "LmRGUHqv_5d1"
      }
    },
    {
      "cell_type": "code",
      "source": [
        "def recursive_sum(lst):\n",
        "    if not lst:\n",
        "        return 0\n",
        "    else:\n",
        "        return lst[0] + recursive_sum(lst[1:])\n",
        "\n",
        "numbers = [2, 4, 6, 8, 10]\n",
        "total_sum = recursive_sum(numbers)\n",
        "print(f\"The sum of the elements in the list is: {total_sum}\")\n"
      ],
      "metadata": {
        "colab": {
          "base_uri": "https://localhost:8080/"
        },
        "id": "QVCCSsZH_-U9",
        "outputId": "96a8c7b9-720f-4670-bb13-78676c681d38"
      },
      "execution_count": 10,
      "outputs": [
        {
          "output_type": "stream",
          "name": "stdout",
          "text": [
            "The sum of the elements in the list is: 30\n"
          ]
        }
      ]
    },
    {
      "cell_type": "markdown",
      "source": [
        "## **14. Write a recursive function to determine whether a given string is a palindrome.**"
      ],
      "metadata": {
        "id": "GGLnUO4aADcx"
      }
    },
    {
      "cell_type": "code",
      "source": [
        "def is_palindrome(s):\n",
        "    if len(s) <= 1:\n",
        "        return True\n",
        "    else:\n",
        "        return s[0] == s[-1] and is_palindrome(s[1:-1])\n",
        "\n",
        "word = \"racecar\"\n",
        "result = is_palindrome(word)\n",
        "if result:\n",
        "    print(f\"{word} is a palindrome.\")\n",
        "else:\n",
        "    print(f\"{word} is not a palindrome.\")\n"
      ],
      "metadata": {
        "colab": {
          "base_uri": "https://localhost:8080/"
        },
        "id": "Zsi4UB1ZAIah",
        "outputId": "3e2fd5b5-3072-45f2-fb6a-5c047ab7aa04"
      },
      "execution_count": 11,
      "outputs": [
        {
          "output_type": "stream",
          "name": "stdout",
          "text": [
            "racecar is a palindrome.\n"
          ]
        }
      ]
    },
    {
      "cell_type": "markdown",
      "source": [
        "## **15. Implement a recursive function to find the greatest common divisor (GCD) of two positive integers.**"
      ],
      "metadata": {
        "id": "GQrcUr5rANre"
      }
    },
    {
      "cell_type": "code",
      "source": [
        "def gcd(a, b):\n",
        "    if b == 0:\n",
        "        return a\n",
        "    else:\n",
        "        return gcd(b, a % b)\n",
        "\n",
        "num1 = 48\n",
        "num2 = 18\n",
        "result = gcd(num1, num2)\n",
        "print(f\"The GCD of {num1} and {num2} is {result}\")\n"
      ],
      "metadata": {
        "colab": {
          "base_uri": "https://localhost:8080/"
        },
        "id": "7WcopQApAT1t",
        "outputId": "7e568efd-dc0b-4376-804d-c9aed0871aa8"
      },
      "execution_count": 13,
      "outputs": [
        {
          "output_type": "stream",
          "name": "stdout",
          "text": [
            "The GCD of 48 and 18 is 6\n"
          ]
        }
      ]
    }
  ]
}