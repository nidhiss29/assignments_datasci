{
  "nbformat": 4,
  "nbformat_minor": 0,
  "metadata": {
    "colab": {
      "provenance": []
    },
    "kernelspec": {
      "name": "python3",
      "display_name": "Python 3"
    },
    "language_info": {
      "name": "python"
    }
  },
  "cells": [
    {
      "cell_type": "markdown",
      "source": [
        "## **1. What is the role of the 'else' block in a try-except statement? Provide an example scenario where it would be useful.**\n",
        "\n",
        "- The 'else' block in a try-except statement is executed when no exception is raised within the 'try' block.\n",
        "- It is used to specify the code that should run if the 'try' block's code executes successfully without any exceptions. It's useful for separating the error handling logic from the normal execution flow.\n",
        "\n",
        "\n",
        "\n",
        "\n",
        "\n",
        "\n"
      ],
      "metadata": {
        "id": "6w6xQ5xN4NTf"
      }
    },
    {
      "cell_type": "code",
      "source": [
        "try:\n",
        "    num = int(input(\"Enter a number: \"))\n",
        "except ValueError:\n",
        "    print(\"Invalid input. Please enter a valid number.\")\n",
        "else:\n",
        "    print(\"You entered:\", num)"
      ],
      "metadata": {
        "colab": {
          "base_uri": "https://localhost:8080/"
        },
        "id": "LCZKTzKj6voK",
        "outputId": "576fbdfb-3028-4653-faad-c9b38a9a0db0"
      },
      "execution_count": 1,
      "outputs": [
        {
          "output_type": "stream",
          "name": "stdout",
          "text": [
            "Enter a number: ellooh\n",
            "Invalid input. Please enter a valid number.\n"
          ]
        }
      ]
    },
    {
      "cell_type": "markdown",
      "source": [
        "## **2. Can a try-except block be nested inside another try-except block? Explain with an example.**\n",
        "\n",
        "- Yes, a try-except block can be nested inside another try-except block.\n",
        "- This is known as nested exception handling and is used when you want to handle different exceptions at different levels of your code.\n",
        "\n",
        "Example:\n",
        "\n",
        "\n"
      ],
      "metadata": {
        "id": "jRlbrMWA41j_"
      }
    },
    {
      "cell_type": "code",
      "source": [
        "try:\n",
        "    try:\n",
        "        x = 10 / 0\n",
        "    except ZeroDivisionError:\n",
        "        print(\"Error: Division by zero\")\n",
        "except:\n",
        "    print(\"An error occurred\")"
      ],
      "metadata": {
        "colab": {
          "base_uri": "https://localhost:8080/"
        },
        "id": "KZDNra3l7Q4z",
        "outputId": "3367ffe4-8047-4e06-ee66-a1376f78784f"
      },
      "execution_count": 2,
      "outputs": [
        {
          "output_type": "stream",
          "name": "stdout",
          "text": [
            "Error: Division by zero\n"
          ]
        }
      ]
    },
    {
      "cell_type": "markdown",
      "source": [
        "## **3. How can you create a custom exception class in Python? Provide an example that demonstrates its usage.**\n",
        "\n",
        "\n",
        "- To create a custom exception class in Python, we can define a new class that inherits from the built-in `Exception` class or its subclasses.\n",
        "- This allows us to create custom error types for more meaningful error handling.\n",
        "\n",
        "Example:\n",
        "\n",
        "\n",
        "\n",
        "\n"
      ],
      "metadata": {
        "id": "DW-vmK3C43F2"
      }
    },
    {
      "cell_type": "code",
      "source": [
        "class MyCustomError(Exception):\n",
        "    pass\n",
        "\n",
        "try:\n",
        "    num = int(input(\"Enter a positive number: \"))\n",
        "    if num < 0:\n",
        "        raise MyCustomError(\"Negative number not allowed\")\n",
        "except MyCustomError as e:\n",
        "    print(\"Custom error:\", e)"
      ],
      "metadata": {
        "colab": {
          "base_uri": "https://localhost:8080/"
        },
        "id": "8xpIJsto7kSr",
        "outputId": "c0661fab-ce0e-45bf-c179-b3cb28beb8be"
      },
      "execution_count": 3,
      "outputs": [
        {
          "output_type": "stream",
          "name": "stdout",
          "text": [
            "Enter a positive number: -9\n",
            "Custom error: Negative number not allowed\n"
          ]
        }
      ]
    },
    {
      "cell_type": "markdown",
      "source": [
        "## **4. What are some common exceptions that are built-in to Python?**\n",
        "\n",
        "Some common built-in exceptions in Python are:\n",
        "   - `ZeroDivisionError`\n",
        "   - `ValueError`\n",
        "   - `TypeError`\n",
        "   - `NameError`\n",
        "   - `FileNotFoundError`\n",
        "   - `IndexError`\n",
        "   - `KeyError`\n",
        "   - `AssertionError`\n",
        "   - `ImportError`\n",
        "   - `RuntimeError`"
      ],
      "metadata": {
        "id": "MTTzAwe844oT"
      }
    },
    {
      "cell_type": "markdown",
      "source": [
        "## **5. What is logging in Python, and why is it important in software development?**\n",
        "\n",
        "\n",
        "\n",
        "- Logging in Python is a way to record and manage events that occur during the execution of a program.\n",
        "- It provides a way to capture information, warnings, errors, and other messages to facilitate debugging and monitoring in software development.\n",
        "\n",
        "\n",
        "\n"
      ],
      "metadata": {
        "id": "5TMuB_3H46NB"
      }
    },
    {
      "cell_type": "markdown",
      "source": [
        "## **6. Explain the purpose of log levels in Python logging and provide examples of when each log level would be appropriate.**\n",
        "\n",
        "\n",
        "- Log levels in Python logging indicate the severity of a log message. Some common log levels are:\n",
        "   - DEBUG: Detailed information, typically used during development.\n",
        "   - INFO: Informational messages about the progress of the application.\n",
        "   - WARNING: Indicates a potential problem that doesn't prevent the program from running.\n",
        "   - ERROR: Indicates a more serious issue that prevents the program from performing a function.\n",
        "   - CRITICAL: A critical error that might cause the program to crash.\n",
        "\n",
        "Example:\n",
        "\n",
        "\n"
      ],
      "metadata": {
        "id": "_TQXCaaw47x0"
      }
    },
    {
      "cell_type": "code",
      "source": [
        "import logging\n",
        "\n",
        "logging.basicConfig(level=logging.DEBUG)\n",
        "logging.debug(\"This is a debug message.\")\n",
        "logging.info(\"This is an info message.\")\n",
        "logging.warning(\"This is a warning message.\")\n",
        "logging.error(\"This is an error message.\")\n",
        "logging.critical(\"This is a critical message.\")"
      ],
      "metadata": {
        "colab": {
          "base_uri": "https://localhost:8080/"
        },
        "id": "-EgpCvV779Xj",
        "outputId": "efd2ff1d-4643-4ae1-edb5-4fedcd699021"
      },
      "execution_count": 4,
      "outputs": [
        {
          "output_type": "stream",
          "name": "stderr",
          "text": [
            "WARNING:root:This is a warning message.\n",
            "ERROR:root:This is an error message.\n",
            "CRITICAL:root:This is a critical message.\n"
          ]
        }
      ]
    },
    {
      "cell_type": "markdown",
      "source": [
        "# **7. What are log formatters in Python logging, and how can you customise the log message format using formatters?**\n",
        "\n",
        "\n",
        "Log formatters in Python logging allow us to customize the format of log messages, including timestamp, log level, message, and more. We can use the `logging.Formatter` class to define the format.\n",
        "\n",
        "Example:\n",
        "\n",
        "\n"
      ],
      "metadata": {
        "id": "HnpNjPL749BR"
      }
    },
    {
      "cell_type": "code",
      "source": [
        "import logging\n",
        "\n",
        "logging.basicConfig(format='%(asctime)s - %(levelname)s - %(message)s', level=logging.INFO)\n",
        "logging.info(\"This is an info message.\")"
      ],
      "metadata": {
        "id": "g5H5m5Ru8IhP"
      },
      "execution_count": 5,
      "outputs": []
    },
    {
      "cell_type": "markdown",
      "source": [
        "## **8. How can you set up logging to capture log messages from multiple modules or classes in a Python application?**\n",
        "\n",
        "To capture log messages from multiple modules or classes, you can create a logger instance in each module and configure the loggers to propagate messages to a common handler or file.\n",
        "\n",
        "Example:\n",
        "Module `module1.py`:\n",
        "```python\n",
        "import logging\n",
        "\n",
        "logger = logging.getLogger(__name__)\n",
        "```\n",
        "\n",
        "Module `module2.py`:\n",
        "```python\n",
        "import logging\n",
        "\n",
        "logger = logging.getLogger(__name__)\n",
        "```\n",
        "\n",
        "Main script:\n",
        "```python\n",
        "import logging\n",
        "import module1\n",
        "import module2\n",
        "\n",
        "logging.basicConfig(filename='app.log', level=logging.INFO)\n",
        "```"
      ],
      "metadata": {
        "id": "wNsCfOhK4-s0"
      }
    },
    {
      "cell_type": "markdown",
      "source": [
        "## **9. What is the difference between the logging and print statements in Python? When should you use logging over print statements in a real-world application?**\n",
        "\n",
        "\n",
        "- The main difference between logging and print statements is that logging provides more control and flexibility over the output.\n",
        "- Logging allows you to specify different log levels, direct logs to different outputs (e.g., console, file), and easily disable or enable logging without modifying the code.\n",
        "\n",
        "We should use logging over print statements in a real-world application because:\n",
        "   - Logs can be controlled globally and turned on/off easily for different parts of the application.\n",
        "   - Logs can provide detailed information even when the application is running in production.\n",
        "\n",
        "\n",
        "\n"
      ],
      "metadata": {
        "id": "FlI1GELr5ANs"
      }
    },
    {
      "cell_type": "markdown",
      "source": [
        "## **10. Write a Python program that logs a message to a file named \"app.log\" with the following requirements:**\n",
        "\n",
        "● The log message should be \"Hello, World!\"\n",
        "\n",
        "● The log level should be set to \"INFO.\"\n",
        "\n",
        "● The log file should append new log entries without overwriting previous ones.\n",
        "\n",
        "\n",
        "\n",
        "\n"
      ],
      "metadata": {
        "id": "J_WUBDL75BqF"
      }
    },
    {
      "cell_type": "code",
      "source": [
        "import logging\n",
        "\n",
        "logging.basicConfig(filename='app.log', level=logging.INFO)\n",
        "logging.info(\"Hello, World!\")"
      ],
      "metadata": {
        "id": "Z5yVgb2b82S2"
      },
      "execution_count": 6,
      "outputs": []
    },
    {
      "cell_type": "markdown",
      "source": [
        "## **11. Create a Python program that logs an error message to the console and a file named \"errors.log\" if an exception occurs during the program's execution. The error message should include the exception type and a timestamp.**\n",
        "\n",
        "\n"
      ],
      "metadata": {
        "id": "vuKh6PlJ5DX9"
      }
    },
    {
      "cell_type": "code",
      "source": [
        "import logging\n",
        "import traceback\n",
        "\n",
        "logging.basicConfig(filename='errors.log', level=logging.ERROR, format='%(asctime)s - %(levelname)s - %(message)s')\n",
        "\n",
        "try:\n",
        "    result = 10 / 0\n",
        "except ZeroDivisionError as e:\n",
        "    logging.error(\"An exception occurred: %s\", e)\n",
        "    logging.error(traceback.format_exc())"
      ],
      "metadata": {
        "colab": {
          "base_uri": "https://localhost:8080/"
        },
        "id": "IDeJYXAu8_4n",
        "outputId": "c461de39-31d1-4ba2-dbb5-5b258cd0372d"
      },
      "execution_count": 7,
      "outputs": [
        {
          "output_type": "stream",
          "name": "stderr",
          "text": [
            "ERROR:root:An exception occurred: division by zero\n",
            "ERROR:root:Traceback (most recent call last):\n",
            "  File \"<ipython-input-7-9a99db3c1dbb>\", line 7, in <cell line: 6>\n",
            "    result = 10 / 0\n",
            "ZeroDivisionError: division by zero\n",
            "\n"
          ]
        }
      ]
    }
  ]
}