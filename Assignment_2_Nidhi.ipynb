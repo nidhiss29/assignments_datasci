{
  "nbformat": 4,
  "nbformat_minor": 0,
  "metadata": {
    "colab": {
      "provenance": []
    },
    "kernelspec": {
      "name": "python3",
      "display_name": "Python 3"
    },
    "language_info": {
      "name": "python"
    }
  },
  "cells": [
    {
      "cell_type": "markdown",
      "source": [
        "# **1.What are the two values of the Boolean data type? How do you write them?**\n",
        "Python boolean type is one of the built-in data types provided by Python, which represents one of the two values i.e. True or False. Generally, it is used to represent the truth values of the expressions. For example\n"
      ],
      "metadata": {
        "id": "zJP7ZkKqxi06"
      }
    },
    {
      "cell_type": "code",
      "source": [
        "  a = True\n",
        "  print(type(a))\n",
        "  b = False\n",
        "  print(type(b))\n"
      ],
      "metadata": {
        "colab": {
          "base_uri": "https://localhost:8080/"
        },
        "id": "iG7Mg-DPx3SJ",
        "outputId": "e3f619b0-2f1a-4169-9988-9f6cec763d75"
      },
      "execution_count": 2,
      "outputs": [
        {
          "output_type": "stream",
          "name": "stdout",
          "text": [
            "<class 'bool'>\n",
            "<class 'bool'>\n"
          ]
        }
      ]
    },
    {
      "cell_type": "markdown",
      "source": [
        "# **2. What are the three different types of Boolean operators?**\n",
        "**Answer:**  In Python, there are three main types of Boolean operators:\n",
        "1. Logical AND (`and`):This operator returns `True` if both operands are `True`, otherwise, it returns `False`.\n",
        "2. Logical OR (`or`): This operator returns `True` if at least one of the operands is `True`, and `False` if both operands are `False`.\n",
        "3. Logical NOT (`not`): This operator is a unary operator that returns the opposite of the operand's truth value. If the operand is `True`, `not` returns `False`, and if the operand is `False`, `not` returns `True`.\n",
        "These operators are often used to combine or modify boolean values in conditional statements and expressions.\n"
      ],
      "metadata": {
        "id": "wGrai6Nayb0E"
      }
    },
    {
      "cell_type": "markdown",
      "source": [
        "# **3. Make a list of each Boolean operator's truth tables (i.e. every possible combination of Boolean values for the operator and what it evaluate ).**\n",
        "**Answer:**     Certainly, here are the truth tables for each Boolean operator in Python:\n",
        "1. Logical AND (`and`):\n",
        "\n",
        "| Operand 1 | Operand 2 | Result |\n",
        "|-----------|-----------|--------|\n",
        "|  False    |  False    | False  |\n",
        "|  False    |  True     | False  |\n",
        "|  True     |  False    | False  |\n",
        "|  True     |  True     | True   |\n",
        "\n",
        "2. Logical OR (`or`):\n",
        "\n",
        "| Operand 1 | Operand 2 | Result |\n",
        "|-----------|-----------|--------|\n",
        "|  False    |  False    | False  |\n",
        "|  False    |  True     | True   |\n",
        "|  True     |  False    | True   |\n",
        "|  True     |  True     | True   |\n",
        "\n",
        "\n",
        "3. Logical NOT (`not`):\n",
        "\n",
        "| Operand | Result |\n",
        "|---------|--------|\n",
        "|  False  |  True  |\n",
        "|  True   |  False |\n",
        "\n",
        "These truth tables illustrate the possible outcomes when applying each Boolean operator to different combinations of Boolean values.\n"
      ],
      "metadata": {
        "id": "JXIr1oOhy0zw"
      }
    },
    {
      "cell_type": "markdown",
      "source": [
        "# **4. What are the values of the following expressions?**\n",
        "Let's evaluate the values of the given expressions step by step:\n",
        "1. **(5 > 4)  and (3 == 5) :**\n",
        " (5 > 4) is True  (3 == 5) is False , True and False is False\n",
        "\n",
        "2. **not (5 > 4) :**  \n",
        "(5 > 4) is True   , not True is False\n",
        "\n",
        "3. **(5 > 4) or (3 == 5):**\n",
        " (5 > 4) is True  (3 == 5) is False\n",
        "   - True or False is True\n",
        "\n",
        "4. **not ((5 > 4) or (3 == 5))  :**\n",
        " (5 > 4) is True  (3 == 5) is False\n",
        "   - True or False is True\n",
        "   - not True is False\n",
        "\n",
        "5. **(True and True) and (True == False):**\n",
        "True and True is True True == False is False\n",
        "   - True and False is False\n",
        "\n",
        "6. **(not False) or (not True) :**\n",
        "not False is True not True is False\n",
        "   - True or False is True\n"
      ],
      "metadata": {
        "id": "O37uZBKg0VXJ"
      }
    },
    {
      "cell_type": "markdown",
      "source": [
        "# **5. What are the six comparison operators?**\n",
        "**Answer:**\n",
        "1. Equal to: `==`\n",
        "2. Not equal to: `!=`\n",
        "3. Greater than:`>`\n",
        "4. Less than: `<`\n",
        "5. Greater than or equal to: `>=`\n",
        "6. Less than or equal to:`<=`\n"
      ],
      "metadata": {
        "id": "KWlMa43s0Qw1"
      }
    },
    {
      "cell_type": "markdown",
      "source": [
        "# **6. How do you tell the difference between the equal to and assignment operators?Describe a condition and when you would use one.**\n",
        "**Answer:**   \n",
        "\n",
        "**1. Equal To Operator (`==`):**  The equal to operator is used for comparison. It checks whether two values are equal or not. It returns `True` if the values are equal and `False` otherwise.\n",
        "\n",
        "**2. Assignment Operator (`=`):**\n",
        "The assignment operator is used to assign a value to a variable. It does not check for equality; rather, it assigns the value on the right-hand side to the variable on the left-hand side.\n",
        "\n",
        "**Condition and Usage:**\n",
        "\n",
        "In this example, the condition using the equal to operator (`==`) checks if both `num1` and `num2` are even by checking if their remainders when divided by 2 are equal to 0. If both conditions are true, the program prints \"Both numbers are even.\"\n"
      ],
      "metadata": {
        "id": "5RBN3t3b0pNb"
      }
    },
    {
      "cell_type": "code",
      "source": [
        "num1 = 8\n",
        "num2 = 12\n",
        "if (num1 % 2 == 0 and num2 % 2 == 0):\n",
        "  print(\"Both numbers are even.\")\n",
        "else:\n",
        "  print(\"At least one of the numbers is not even.\")\n"
      ],
      "metadata": {
        "colab": {
          "base_uri": "https://localhost:8080/"
        },
        "id": "daaDs3uMqACE",
        "outputId": "bd4014fa-f0c1-47cc-fe63-c2afdb9c1b8b"
      },
      "execution_count": 1,
      "outputs": [
        {
          "output_type": "stream",
          "name": "stdout",
          "text": [
            "Both numbers are even.\n"
          ]
        }
      ]
    },
    {
      "cell_type": "markdown",
      "source": [
        "# **7. Identify the three blocks in this code:**\n",
        "\n",
        "\n",
        "\n",
        "\n",
        "\n"
      ],
      "metadata": {
        "id": "ZuAbazDBqLhM"
      }
    },
    {
      "cell_type": "code",
      "source": [
        "spam = 0\n",
        "if spam == 10:\n",
        "  print('eggs')\n",
        "if spam > 5:\n",
        "  print('bacon')\n",
        "else:\n",
        "  print('ham')\n",
        "print('spam')\n",
        "print('spam')"
      ],
      "metadata": {
        "colab": {
          "base_uri": "https://localhost:8080/"
        },
        "id": "sbsvAfkstEXf",
        "outputId": "e49191e0-d9b7-48b6-cd73-f09ef6eb8146"
      },
      "execution_count": 12,
      "outputs": [
        {
          "output_type": "stream",
          "name": "stdout",
          "text": [
            "ham\n",
            "spam\n",
            "spam\n"
          ]
        }
      ]
    },
    {
      "cell_type": "markdown",
      "source": [
        "**Answer:**\n",
        "1. Block 1:\n",
        "if spam == 10:\n",
        "    print('eggs')\n",
        "2. Block 2:\n",
        "if spam > 5:\n",
        "    print('bacon')\n",
        "3. Block 3:\n",
        "else:\n",
        "    print('ham')"
      ],
      "metadata": {
        "id": "xLKDlUMItMGS"
      }
    },
    {
      "cell_type": "markdown",
      "source": [
        "## **8. Write code that prints Hello if 1 is stored in spam, prints Howdy if 2 is stored in spam, and prints Greetings! if anything else is stored in spam.**"
      ],
      "metadata": {
        "id": "ZmHLML2Mqlij"
      }
    },
    {
      "cell_type": "code",
      "source": [
        "spam = int(input(\"Enter a value for spam: \"))  # You can replace this line with direct assignment\n",
        "if spam == 1:\n",
        "  print(\"Hello\")\n",
        "elif spam == 2:\n",
        "  print(\"Howdy\")\n",
        "else:\n",
        "  print(\"Greetings!\")\n"
      ],
      "metadata": {
        "colab": {
          "base_uri": "https://localhost:8080/"
        },
        "id": "aSbzuBLEqtAb",
        "outputId": "079a21cd-ffda-42d4-ca31-7bcc811147c1"
      },
      "execution_count": 2,
      "outputs": [
        {
          "output_type": "stream",
          "name": "stdout",
          "text": [
            "Enter a value for spam: 2\n",
            "Howdy\n"
          ]
        }
      ]
    },
    {
      "cell_type": "markdown",
      "source": [
        "### **9.If your programme is stuck in an endless loop, what keys you’ll press?**\n",
        "**Answer:**   press ctrl+C\n",
        "\n"
      ],
      "metadata": {
        "id": "Ylptu5lzqy-u"
      }
    },
    {
      "cell_type": "markdown",
      "source": [
        "### **10. How can you tell the difference between break and continue?**\n",
        "- `break` is used to exit the loop entirely.\n",
        "- `continue` is used to skip the current iteration and proceed to the next iteration of the loop.\n",
        "1.break:\n",
        "\n",
        "The `break` statement is used to immediately terminate the innermost loop (the loop that contains the `break` statement) and continue executing the code after the loop.\n",
        "Example:\n"
      ],
      "metadata": {
        "id": "8OOn-U-_q_1X"
      }
    },
    {
      "cell_type": "code",
      "source": [
        "for i in range(5):\n",
        "  if i == 3:\n",
        "    break\n",
        "  print(i)\n"
      ],
      "metadata": {
        "colab": {
          "base_uri": "https://localhost:8080/"
        },
        "id": "6QUqqvNUrJw2",
        "outputId": "28c5a041-38c5-4ebc-cceb-b3c6a419fa55"
      },
      "execution_count": 8,
      "outputs": [
        {
          "output_type": "stream",
          "name": "stdout",
          "text": [
            "0\n",
            "1\n",
            "2\n"
          ]
        }
      ]
    },
    {
      "cell_type": "markdown",
      "source": [
        "**2. continue:**\n",
        "The `continue` statement is used to skip the remaining code inside the current iteration of a loop and move to the next iteration.\n",
        "**Example**:\n",
        "\n",
        "\n",
        "Both `break` and `continue` can help you control the behavior of loops and manage their execution based on specific conditions."
      ],
      "metadata": {
        "id": "dJE8M6efrZy1"
      }
    },
    {
      "cell_type": "code",
      "source": [
        "for i in range(5):\n",
        "  if i == 2:\n",
        "    continue\n",
        "  print(i)\n"
      ],
      "metadata": {
        "colab": {
          "base_uri": "https://localhost:8080/"
        },
        "id": "6DviDgSfrjau",
        "outputId": "b9d76b5c-20b3-4d86-be8c-b3291d446791"
      },
      "execution_count": 7,
      "outputs": [
        {
          "output_type": "stream",
          "name": "stdout",
          "text": [
            "0\n",
            "1\n",
            "3\n",
            "4\n"
          ]
        }
      ]
    },
    {
      "cell_type": "markdown",
      "source": [
        "### **11. In a for loop, what is the difference between range(10), range(0, 10), and range(0, 10, 1)?**\n",
        "In a `for` loop, the expressions `range(10)`, `range(0, 10)`, and `range(0, 10, 1)` are equivalent and will produce the same results. They generate a sequence of numbers from 0 to 9 (inclusive) with a step size of 1.\n"
      ],
      "metadata": {
        "id": "Gp5J0y1wruBu"
      }
    },
    {
      "cell_type": "markdown",
      "source": [
        "### **12. Write a short program that prints the numbers 1 to 10 using a for loop. Then write an equivalent program that prints the numbers 1 to 10 using a while loop.**\n",
        "**Answer:** using a `for` loop to print the numbers from 1 to 10:\n",
        "\n"
      ],
      "metadata": {
        "id": "TKvc7UFXr1Y3"
      }
    },
    {
      "cell_type": "code",
      "source": [
        "for i in range(1, 11):\n",
        "  print(i)"
      ],
      "metadata": {
        "colab": {
          "base_uri": "https://localhost:8080/"
        },
        "id": "Gjv_c75nsBT7",
        "outputId": "6f621b37-b42c-45fc-ea31-bb2328987b0e"
      },
      "execution_count": 9,
      "outputs": [
        {
          "output_type": "stream",
          "name": "stdout",
          "text": [
            "1\n",
            "2\n",
            "3\n",
            "4\n",
            "5\n",
            "6\n",
            "7\n",
            "8\n",
            "9\n",
            "10\n"
          ]
        }
      ]
    },
    {
      "cell_type": "markdown",
      "source": [
        "using a `while` loop to achieve the same result:"
      ],
      "metadata": {
        "id": "U1Xgx4AwsQf9"
      }
    },
    {
      "cell_type": "code",
      "source": [
        "i = 1\n",
        "while i <= 10:\n",
        "  print(i)\n",
        "  i += 1\n"
      ],
      "metadata": {
        "colab": {
          "base_uri": "https://localhost:8080/"
        },
        "id": "8kvoW915sW3J",
        "outputId": "b4a4c98e-82e5-46aa-a0e1-6e6a9711de4e"
      },
      "execution_count": 10,
      "outputs": [
        {
          "output_type": "stream",
          "name": "stdout",
          "text": [
            "1\n",
            "2\n",
            "3\n",
            "4\n",
            "5\n",
            "6\n",
            "7\n",
            "8\n",
            "9\n",
            "10\n"
          ]
        }
      ]
    },
    {
      "cell_type": "markdown",
      "source": [
        "### **13. If you had a function named bacon() inside a module named spam, how would you call it after importing spam?**\n",
        "\n",
        "import spam\n",
        "\n",
        "spam.bacon()\n"
      ],
      "metadata": {
        "id": "6tYpbQzjsdbI"
      }
    }
  ]
}