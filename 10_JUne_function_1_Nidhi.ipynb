{
  "nbformat": 4,
  "nbformat_minor": 0,
  "metadata": {
    "colab": {
      "provenance": []
    },
    "kernelspec": {
      "name": "python3",
      "display_name": "Python 3"
    },
    "language_info": {
      "name": "python"
    }
  },
  "cells": [
    {
      "cell_type": "markdown",
      "source": [
        "## **1.\tIn Python, what is the difference between a built-in function and a user-defined function? Provide an example of each.**\n",
        "\n",
        "**Built-in functions** are functions that are provided by the Python programming language itself. These functions are pre-defined and are readily available for use without the need for additional code. Examples of built-in functions include `print()`, `len()` etc.\n",
        "\n",
        "Example of a built-in function (`len()`):\n",
        "\n",
        "\n",
        "\n",
        "\n"
      ],
      "metadata": {
        "id": "coMsXNfql963"
      }
    },
    {
      "cell_type": "code",
      "source": [
        "my_list = [1, 2, 3, 4, 5]\n",
        "length = len(my_list)\n",
        "print(\"Length of the list:\", length)"
      ],
      "metadata": {
        "colab": {
          "base_uri": "https://localhost:8080/"
        },
        "id": "BfgnQ7R5mCq6",
        "outputId": "c41df636-6047-4b0a-9801-dec41b340765"
      },
      "execution_count": 1,
      "outputs": [
        {
          "output_type": "stream",
          "name": "stdout",
          "text": [
            "Length of the list: 5\n"
          ]
        }
      ]
    },
    {
      "cell_type": "markdown",
      "source": [
        "\n",
        "**User-defined functions** are functions created by the programmer to perform specific tasks. These functions are defined using the `def` keyword and can be customized to suit the programmer's needs.\n",
        "\n",
        "Example:\n",
        "\n",
        "\n",
        "\n"
      ],
      "metadata": {
        "id": "x5BYIHs9mGq2"
      }
    },
    {
      "cell_type": "code",
      "source": [
        "def greet(name):\n",
        "  return \"Hello, \" + name + \"!\"\n",
        "\n",
        "user_name = \"Alice\"\n",
        "greeting = greet(user_name)\n",
        "print(greeting)\n"
      ],
      "metadata": {
        "colab": {
          "base_uri": "https://localhost:8080/"
        },
        "id": "mYRsc30JmNkX",
        "outputId": "abb51803-0f3d-42be-bb2e-e8757a2ff070"
      },
      "execution_count": 2,
      "outputs": [
        {
          "output_type": "stream",
          "name": "stdout",
          "text": [
            "Hello, Alice!\n"
          ]
        }
      ]
    },
    {
      "cell_type": "markdown",
      "source": [
        "## **2.\tHow can you pass arguments to a function in Python? Explain the difference between positional arguments and keyword arguments.**\n",
        "\n",
        "**Positional arguments** are passed to a function based on their position or order. The function receives the arguments in the same order as they are passed.\n",
        "\n",
        "Example:\n",
        "\n",
        "\n",
        "```\n",
        "def add_numbers(a, b):\n",
        " return a + b\n",
        "result = add_numbers(5, 3)  \n",
        "\n",
        "```\n",
        "\n",
        "**Keyword arguments** are passed to a function using the parameter names as keywords. This allows you to specify arguments out of order, making the function call more readable and self-explanatory.\n",
        "\n",
        "Example:\n",
        "\n",
        "\n",
        "\n",
        "```\n",
        "def print_info(name, age, country):\n",
        "    print(f\"Name: {name}, Age: {age}, Country: {country}\")\n",
        "```\n",
        "\n"
      ],
      "metadata": {
        "id": "rr6U8iRbmP2b"
      }
    },
    {
      "cell_type": "markdown",
      "source": [
        "\n",
        "## **3.\tWhat is the purpose of the return statement in a function? Can a function have multiple return statements? Explain with an example.**\n",
        "\n",
        "The `return` statement in a function specifies what value the function should produce as its result. When a `return` statement is encountered within a function, the function immediately stops executing.\n",
        "\n",
        "A function can indeed have multiple `return` statements.\n",
        "\n",
        "\n"
      ],
      "metadata": {
        "id": "PxGP1INjmlF-"
      }
    },
    {
      "cell_type": "code",
      "source": [
        "score = int(input(\"enter score \"))\n",
        "\n",
        "def calculate_grade(score):\n",
        "    if score >= 90:\n",
        "        return \"A\"\n",
        "    elif score >= 80:\n",
        "        return \"B\"\n",
        "    elif score >= 70:\n",
        "        return \"C\"\n",
        "    else:\n",
        "        return \"F\"\n",
        "\n",
        "hello = calculate_grade(score)  # Call the function with the 'score' parameter\n",
        "print(hello)\n"
      ],
      "metadata": {
        "colab": {
          "base_uri": "https://localhost:8080/"
        },
        "id": "dj6xb2R7N05Y",
        "outputId": "89200d39-162d-4355-d147-30de8c137c68"
      },
      "execution_count": 1,
      "outputs": [
        {
          "output_type": "stream",
          "name": "stdout",
          "text": [
            "enter score 85\n",
            "B\n"
          ]
        }
      ]
    },
    {
      "cell_type": "markdown",
      "source": [
        "## **4.\tWhat are lambda functions in Python? How are they different from regular functions? Provide an example where a lambda function can be useful.**\n",
        "\n",
        "Lambda functions, also known as anonymous functions, are small, single-expression functions in It can have any number of arguments but can only have one expression. Defined using the `lambda` keyword, followed by the argument list and the expression.\n",
        "\n",
        "Syntax:\n",
        "\n",
        "```\n",
        "lambda arguments: expression\n",
        "```\n",
        "\n",
        "\n",
        "Different:    \n",
        " 1.  Lambda functions use a more compact syntax compared to regular functions\n",
        " 2.  Lambda functions can only have one expression, whereas regular functions can have multiple expressions.\n",
        " 3.  Lambda functions are anonymous; they don't require a name.\n",
        "\n",
        "Usually used for sorting, filtering, or mapping operations Example:\n",
        "\n",
        "\n",
        "\n"
      ],
      "metadata": {
        "id": "VyhDgkZgOwE9"
      }
    },
    {
      "cell_type": "code",
      "source": [
        "points = [(1, 5), (3, 2), (2, 8), (4, 3)]\n",
        "sorted_points = sorted(points, key=lambda x: x[1])\n",
        "print(sorted_points)"
      ],
      "metadata": {
        "colab": {
          "base_uri": "https://localhost:8080/"
        },
        "id": "gJgFT8v1PCxB",
        "outputId": "8b88475f-d913-4008-aec9-63e64e66234b"
      },
      "execution_count": 2,
      "outputs": [
        {
          "output_type": "stream",
          "name": "stdout",
          "text": [
            "[(3, 2), (4, 3), (1, 5), (2, 8)]\n"
          ]
        }
      ]
    },
    {
      "cell_type": "markdown",
      "source": [
        "## **5.\tHow does the concept of \"scope\" apply to functions in Python? Explain the difference between local scope and global scope.**\n",
        "\n",
        "The concept of \"scope\" in Python refers to the visibility and accessibility of variables within different parts of code.\n",
        "\n",
        "**Local scope** refers to the area within a function where variables are defined. They are only accessible and meaningful within that function. Local variables are created when the function is called and are destroyed when the function exits.\n",
        "\n",
        "**Global scope** refers to the variables defined outside of any function, at the main script level, have global scope. Global variables can be accessed and modified from anywhere in the code, including within functions.\n",
        "\n"
      ],
      "metadata": {
        "id": "g2QT4rdpPKDK"
      }
    },
    {
      "cell_type": "markdown",
      "source": [
        "## **6.\tHow can you use the \"return\" statement in a Python function to return multiple values?**\n",
        "\n",
        "In Python, you can use the `return` statement in a function to return multiple values by returning them as part of a data structure, such as a tuple, list, or dictionary.\n",
        "\n",
        "For Example:\n",
        "\n",
        " You can pack multiple values into a list and return the list using the `return` statement.\n",
        "\n",
        "\n",
        "\n",
        "```\n",
        "def get_numbers():\n",
        "    num1 = 5\n",
        "    num2 = 10\n",
        "    num3 = 15\n",
        "    return [num1, num2, num3]\n",
        "```\n",
        "\n",
        "\n"
      ],
      "metadata": {
        "id": "jHpEpXfdPUjS"
      }
    },
    {
      "cell_type": "markdown",
      "source": [
        "## **7.\tWhat is the difference between the \"pass by value\" and \"pass by reference\" concepts when it comes to function arguments in Python?**\n",
        "\n",
        "In a **pass by value** scenario, a copy of the actual value of the variable is passed to the function. This means that any changes made to the parameter within the function do not affect the original variable outside the function.\n",
        "\n",
        "In a **pass by reference** scenario, a reference or memory address of the variable is passed to the function. Any modifications made to the parameter inside the function are reflected in the original variable outside the function.\n"
      ],
      "metadata": {
        "id": "IBXyhWPsPe31"
      }
    },
    {
      "cell_type": "markdown",
      "source": [
        "\n",
        "## **8.\tCreate a function that can intake integer or decimal value and do following operations:**\n",
        "a.\tLogarithmic function (log x)\n",
        "\n",
        "b.\tExponential function (exp(x))\n",
        "\n",
        "c.\tPower function with base 2 (2x)\n",
        "\n",
        "d.\tSquare root\n",
        "\n"
      ],
      "metadata": {
        "id": "kMb13eT5PmJx"
      }
    },
    {
      "cell_type": "code",
      "source": [
        "import math\n",
        "\n",
        "def perform_operations(x):\n",
        "  log_result = math.log(x)\n",
        "  exp_result = math.exp(x)\n",
        "  power_result = 2 ** x\n",
        "  sqrt_result = math.sqrt(x)\n",
        "\n",
        "  return log_result, exp_result, power_result, sqrt_result\n",
        "\n",
        "value = float(input(\"Enter a number: \"))\n",
        "log_res, exp_res, power_res, sqrt_res = perform_operations(value)\n",
        "\n",
        "print(f\"Logarithmic function (log {value}): {log_res}\")\n",
        "print(f\"Exponential function (exp({value})): {exp_res}\")\n",
        "print(f\"Power function with base 2 (2^{value}): {power_res}\")\n",
        "print(f\"Square root of {value}: {sqrt_res}\")\n"
      ],
      "metadata": {
        "colab": {
          "base_uri": "https://localhost:8080/"
        },
        "id": "dlTmUjwuPrbH",
        "outputId": "61a6948d-3b26-4ead-d888-c1c8ff2ad96f"
      },
      "execution_count": 3,
      "outputs": [
        {
          "output_type": "stream",
          "name": "stdout",
          "text": [
            "Enter a number: 8.9\n",
            "Logarithmic function (log 8.9): 2.186051276738094\n",
            "Exponential function (exp(8.9)): 7331.973539155995\n",
            "Power function with base 2 (2^8.9): 477.7128916668455\n",
            "Square root of 8.9: 2.9832867780352594\n"
          ]
        }
      ]
    },
    {
      "cell_type": "markdown",
      "source": [
        "## **9.\tCreate a function that takes a full name as an argument and returns first name and last name.**\n",
        "\n"
      ],
      "metadata": {
        "id": "17Et75n7P4id"
      }
    },
    {
      "cell_type": "code",
      "source": [
        "def extract_first_last_name(full_name):\n",
        "  names = full_name.split()\n",
        "  first_name = names[0]\n",
        "  last_name = names[-1]\n",
        "  return first_name, last_name\n",
        "\n",
        "full_name = input(\"Enter your full name: \")\n",
        "first_name, last_name = extract_first_last_name(full_name)\n",
        "\n",
        "print(\"First Name:\", first_name)\n",
        "print(\"Last Name:\", last_name)\n"
      ],
      "metadata": {
        "colab": {
          "base_uri": "https://localhost:8080/"
        },
        "id": "cCnYBi4SP-pW",
        "outputId": "468056fe-ecd1-4ae4-bca1-b8d606a1261c"
      },
      "execution_count": 4,
      "outputs": [
        {
          "output_type": "stream",
          "name": "stdout",
          "text": [
            "Enter your full name: nidhi singhal\n",
            "First Name: nidhi\n",
            "Last Name: singhal\n"
          ]
        }
      ]
    }
  ]
}