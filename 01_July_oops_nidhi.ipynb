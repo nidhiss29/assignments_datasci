{
  "nbformat": 4,
  "nbformat_minor": 0,
  "metadata": {
    "colab": {
      "provenance": []
    },
    "kernelspec": {
      "name": "python3",
      "display_name": "Python 3"
    },
    "language_info": {
      "name": "python"
    }
  },
  "cells": [
    {
      "cell_type": "markdown",
      "source": [
        "## **1. What is the primary goal of Object-Oriented Programming (OOP)?**\n",
        "\n",
        "The primary goal of Object-Oriented Programming (OOP) in Python, as well as in other programming languages, is to organize code in a way that models real-world entities, relationships, and behaviors.\n",
        " OOP aims to provide a more intuitive and modular approach to software development.\n",
        "\n",
        " follows key principles:\n",
        "\n",
        "1. **Objects:** Objects are instances of classes, which represent real-world entities or concepts. They encapsulate both data (attributes) and functions (methods) that operate on the data.\n",
        "\n",
        "2. **Classes:** A class is a blueprint or template that defines the structure and behavior of objects.\n",
        "\n",
        "3. **Inheritance:** Inheritance allows you to create a new class based on an existing class, inheriting its attributes and methods. This promotes code reusability.\n",
        "\n",
        "4. **Encapsulation:** Encapsulation restricts direct access to an object's internal state, ensuring that data is accessed and modified only through defined methods.\n",
        "\n",
        "5. **Polymorphism:** Polymorphism allows objects of different classes to be treated as objects of a common superclass.\n",
        "\n"
      ],
      "metadata": {
        "id": "1VybWQI0i3mt"
      }
    },
    {
      "cell_type": "markdown",
      "source": [
        "## **2. What is an object in Python?**\n",
        "\n",
        "An object is a fundamental concept that represents a specific instance of a class. An object is a self-contained unit that combines data (attributes) and the methods (functions) that operate on that data.\n",
        "\n",
        "- Each object has a unique identity, which is a numerical value assigned to it by the Python interpreter. The object's identity remains constant throughout its lifetime.\n",
        "\n",
        "- The process of creating an object from a class is called instantiation. This involves creating a new instance of the class and initializing its attributes.\n",
        "\n",
        " example:\n",
        "\n",
        "\n"
      ],
      "metadata": {
        "id": "it5a_j0Gi3pg"
      }
    },
    {
      "cell_type": "code",
      "source": [
        "class Person:\n",
        "    def __init__(self, name, age):\n",
        "        self.name = name\n",
        "        self.age = age\n",
        "\n",
        "    def introduce(self):\n",
        "        print(f\"Hi, my name is {self.name} and I am {self.age} years old.\")\n",
        "\n",
        "# Creating objects\n",
        "person1 = Person(\"Alice\", 30)\n",
        "\n",
        "\n",
        "# Calling object methods\n",
        "person1.introduce()"
      ],
      "metadata": {
        "colab": {
          "base_uri": "https://localhost:8080/"
        },
        "id": "JG1zHyGwnqg7",
        "outputId": "7a9cb9dc-685c-400e-9d16-54b659fc8cfd"
      },
      "execution_count": 1,
      "outputs": [
        {
          "output_type": "stream",
          "name": "stdout",
          "text": [
            "Hi, my name is Alice and I am 30 years old.\n"
          ]
        }
      ]
    },
    {
      "cell_type": "markdown",
      "source": [
        "## **3. What is a class in Python?**\n",
        "\n",
        "In Python, a class is a blueprint or template for creating objects. It defines the structure and behavior that the objects of the class will have.\n",
        "\n",
        "- A class serves as a way to encapsulate data (attributes) and the functions (methods) that operate on that data into a single unit.\n",
        "\n",
        "class contains\n",
        "- attributes\n",
        "- methods\n",
        "- contructors\n",
        "- instance and class variables\n",
        "\n",
        "example:\n",
        "\n",
        "\n",
        "\n",
        "\n",
        "\n"
      ],
      "metadata": {
        "id": "yNwIjI5pi3se"
      }
    },
    {
      "cell_type": "code",
      "source": [
        "class Car:\n",
        "    # Class variable\n",
        "    manufacturer = \"XYZ Motors\"\n",
        "\n",
        "    def __init__(self, model, year):\n",
        "        # Instance variables\n",
        "        self.model = model\n",
        "        self.year = year\n",
        "\n",
        "    def drive(self):\n",
        "        print(f\"The {self.year} {self.model} is now driving.\")\n",
        "\n",
        "# Creating objects\n",
        "car1 = Car(\"SUV\", 2023)\n",
        "\n",
        "\n",
        "# Accessing attributes and calling methods\n",
        "print(f\"Car 1: {car1.model}, {car1.year}\")\n",
        "car1.drive()"
      ],
      "metadata": {
        "colab": {
          "base_uri": "https://localhost:8080/"
        },
        "id": "0JscFP3doVGh",
        "outputId": "e9367d1e-53b9-48ac-c4c6-938acc9e48b2"
      },
      "execution_count": 2,
      "outputs": [
        {
          "output_type": "stream",
          "name": "stdout",
          "text": [
            "Car 1: SUV, 2023\n",
            "The 2023 SUV is now driving.\n"
          ]
        }
      ]
    },
    {
      "cell_type": "markdown",
      "source": [
        "## **4. What are attributes and methods in a class?**\n",
        "\n",
        "1. **Attributes:**\n",
        "Attributes are variables that store data within a class. They represent the properties or characteristics of the objects created from the class.\n",
        "\n",
        "Attributes can be of two types:\n",
        "\n",
        "- **Instance Attributes:**\n",
        "- **Class Attributes:**\n",
        "\n",
        "\n",
        "\n",
        "\n",
        "\n",
        "\n",
        "\n"
      ],
      "metadata": {
        "id": "Z1ZgEIAyi3vG"
      }
    },
    {
      "cell_type": "markdown",
      "source": [
        "2. **Methods:**\n",
        "Methods are functions defined within a class that define the behavior and actions that the class can perform. They operate on the data stored in the attributes and can be used to modify the attributes, perform computations.\n",
        "\n",
        "Methods can be of various types:\n",
        "\n",
        "- **Instance Methods:**\n",
        "- **Class Methods:**\n",
        "- **Static Methods:**\n",
        "\n",
        "Example:\n",
        "\n",
        "\n"
      ],
      "metadata": {
        "id": "zF1HmVispTL4"
      }
    },
    {
      "cell_type": "code",
      "source": [
        "class Circle:\n",
        "    manuf = \"hey\" #class attribute\n",
        "    def __init__(self, radius):\n",
        "        self.radius = radius  #intance att\n",
        "\n",
        "    def area(self):\n",
        "        return 3.14159 * self.radius ** 2\n",
        "\n",
        "    @classmethod\n",
        "    def describe_class(cls):\n",
        "        print(\"This is the Circle class.\")\n",
        "\n",
        "    @staticmethod\n",
        "    def circumference(radius):\n",
        "        return 2 * 3.14159 * radius\n",
        "\n",
        "circle1 = Circle(5)\n",
        "print(circle1.area())\n",
        "Circle.describe_class()\n",
        "print(Circle.circumference(5))"
      ],
      "metadata": {
        "colab": {
          "base_uri": "https://localhost:8080/"
        },
        "id": "H1fkc3MCpfhy",
        "outputId": "b7e1388a-f40d-4e04-d128-57d14545cfc4"
      },
      "execution_count": 5,
      "outputs": [
        {
          "output_type": "stream",
          "name": "stdout",
          "text": [
            "78.53975\n",
            "This is the Circle class.\n",
            "31.4159\n"
          ]
        }
      ]
    },
    {
      "cell_type": "markdown",
      "source": [
        "## **5. What is the difference between class variables and instance variables in Python?**\n",
        "\n",
        "1. **Class Variables:**\n",
        "   - Class variables are attributes that are shared among all instances (objects) of a class.\n",
        "   - They are defined within the class but outside any method, typically at the beginning of the class definition.\n",
        "   - Changes to a class variable will affect all instances of the class.\n",
        "   - Class variables are accessed using the class name.\n",
        "\n",
        "\n",
        "\n",
        "\n",
        "\n",
        "\n"
      ],
      "metadata": {
        "id": "FBO3lEQ6i3xm"
      }
    },
    {
      "cell_type": "markdown",
      "source": [
        "2. **Instance Variables:**\n",
        "   - Instance variables are attributes that are unique to each instance (object) of a class.\n",
        "   - They are defined within methods using the `self` keyword, typically inside the constructor (`__init__`) method.\n",
        "   - Instance variables hold data specific to each object.\n",
        "   - Changes to an instance variable affect only the specific object they belong to.\n",
        "  \n",
        "Example:\n",
        "\n",
        "\n",
        "\n"
      ],
      "metadata": {
        "id": "yuTKeG9bqnTe"
      }
    },
    {
      "cell_type": "code",
      "source": [
        "class Person:\n",
        "    def __init__(self, name, age):\n",
        "        self.name = name      # Instance variable\n",
        "        self.age = age        # Instance variable\n",
        "\n",
        "person1 = Person(\"Alice\", 25)\n",
        "person2 = Person(\"Bob\", 30)\n",
        "\n",
        "print(person1.name)  # Accessing instance variable\n",
        "print(person2.age)   # Accessing instance variable"
      ],
      "metadata": {
        "colab": {
          "base_uri": "https://localhost:8080/"
        },
        "id": "KUnex4Jpq7h6",
        "outputId": "613ee2f5-c83d-4b49-e2f7-958b6fb50628"
      },
      "execution_count": 7,
      "outputs": [
        {
          "output_type": "stream",
          "name": "stdout",
          "text": [
            "Alice\n",
            "30\n"
          ]
        }
      ]
    },
    {
      "cell_type": "markdown",
      "source": [
        "## **6. What is the purpose of the self parameter in Python class methods?**\n",
        "\n",
        "In Python class methods, the `self` parameter refers to the instance of the class that the method is being called on. It is a convention used to refer to the instance itself within the method's code. The `self` parameter allows you to access and manipulate the instance's attributes and call other instance methods.\n",
        "\n",
        "It helps in:\n",
        "\n",
        "1. **Accessing Instance Attributes:**\n",
        "2. **Modifying Instance Attributes:**\n",
        "3. **Calling Other Instance Methods:**\n",
        "4. **Creating and Managing State:**\n",
        "\n",
        "example:\n",
        "\n",
        "\n",
        "\n"
      ],
      "metadata": {
        "id": "zrktIxtvi30D"
      }
    },
    {
      "cell_type": "code",
      "source": [
        "class BankAccount:\n",
        "    def __init__(self, account_number, balance):\n",
        "        self.account_number = account_number\n",
        "        self.balance = balance\n",
        "\n",
        "    def deposit(self, amount):\n",
        "        self.balance += amount\n",
        "\n",
        "    def withdraw(self, amount):\n",
        "        if self.balance >= amount:\n",
        "            self.balance -= amount\n",
        "        else:\n",
        "            print(\"Insufficient balance.\")\n",
        "\n",
        "    def display_balance(self):\n",
        "        print(f\"Account {self.account_number} has a balance of ${self.balance}\")\n",
        "\n",
        "# Creating an instance of BankAccount\n",
        "account = BankAccount(\"123456\", 1000)\n",
        "\n",
        "# Using instance methods\n",
        "account.deposit(500)\n",
        "account.display_balance()\n",
        "\n",
        "account.withdraw(300)\n",
        "account.display_balance()"
      ],
      "metadata": {
        "colab": {
          "base_uri": "https://localhost:8080/"
        },
        "id": "2_TYArmswVq4",
        "outputId": "9f4891af-1735-4605-d43b-d3a66f450320"
      },
      "execution_count": 8,
      "outputs": [
        {
          "output_type": "stream",
          "name": "stdout",
          "text": [
            "Account 123456 has a balance of $1500\n",
            "Account 123456 has a balance of $1200\n"
          ]
        }
      ]
    },
    {
      "cell_type": "markdown",
      "source": [
        "## **7. For a library management system, you have to design the \"Book\" class with OOP principles in mind. The “Book” class will have following attributes:**\n",
        "a. title: Represents the title of the book.\n",
        "\n",
        "b. author: Represents the author(s) of the book.\n",
        "\n",
        "c. isbn: Represents the ISBN (International Standard Book Number) of the book.\n",
        "\n",
        "d. publication_year: Represents the year of publication of the book.\n",
        "\n",
        "e. available_copies: Represents the number of copies available for checkout.\n",
        "\n",
        "The class will also include the following methods:\n",
        "a. check_out(self): Decrements the available copies by one if there are copies available for checkout.\n",
        "\n",
        "b. return_book(self): Increments the available copies by one when a book is\n",
        "returned.\n",
        "\n",
        "c. display_book_info(self): Displays the information about the book, including its attributes and the number of available copies.\n",
        "\n"
      ],
      "metadata": {
        "id": "uRycwy8Wi32e"
      }
    },
    {
      "cell_type": "code",
      "source": [
        "class Book:\n",
        "    def __init__(self, title, author, isbn, publication_year, available_copies):\n",
        "        self.title = title\n",
        "        self.author = author\n",
        "        self.isbn = isbn\n",
        "        self.publication_year = publication_year\n",
        "        self.available_copies = available_copies\n",
        "\n",
        "    def check_out(self):\n",
        "        if self.available_copies > 0:\n",
        "            self.available_copies -= 1\n",
        "            print(f\"Book '{self.title}' checked out successfully.\")\n",
        "        else:\n",
        "            print(f\"No copies of '{self.title}' available for checkout.\")\n",
        "\n",
        "    def return_book(self):\n",
        "        self.available_copies += 1\n",
        "        print(f\"Book '{self.title}' returned successfully.\")\n",
        "\n",
        "    def display_book_info(self):\n",
        "        print(f\"Title: {self.title}\")\n",
        "        print(f\"Author(s): {self.author}\")\n",
        "        print(f\"ISBN: {self.isbn}\")\n",
        "        print(f\"Publication Year: {self.publication_year}\")\n",
        "        print(f\"Available Copies: {self.available_copies}\")\n",
        "\n",
        "# Creating an instance of Book\n",
        "book1 = Book(\"The Great Gatsby\", \"F. Scott Fitzgerald\", \"978-3-16-148410-0\", 1925, 5)\n",
        "\n",
        "# Using the methods of the Book class\n",
        "book1.check_out()\n",
        "book1.display_book_info()\n",
        "book1.return_book()\n",
        "book1.display_book_info()\n"
      ],
      "metadata": {
        "colab": {
          "base_uri": "https://localhost:8080/"
        },
        "id": "iyqDCy2D1ltT",
        "outputId": "6421921a-8719-4b86-c665-ce73f5f3d093"
      },
      "execution_count": 9,
      "outputs": [
        {
          "output_type": "stream",
          "name": "stdout",
          "text": [
            "Book 'The Great Gatsby' checked out successfully.\n",
            "Title: The Great Gatsby\n",
            "Author(s): F. Scott Fitzgerald\n",
            "ISBN: 978-3-16-148410-0\n",
            "Publication Year: 1925\n",
            "Available Copies: 4\n",
            "Book 'The Great Gatsby' returned successfully.\n",
            "Title: The Great Gatsby\n",
            "Author(s): F. Scott Fitzgerald\n",
            "ISBN: 978-3-16-148410-0\n",
            "Publication Year: 1925\n",
            "Available Copies: 5\n"
          ]
        }
      ]
    },
    {
      "cell_type": "markdown",
      "source": [
        "## **8. For a ticket booking system, you have to design the \"Ticket\" class with OOP principles in mind. The “Ticket” class should have the following attributes:**\n",
        "a. ticket_id: Represents the unique identifier for the ticket.\n",
        "\n",
        "b. event_name: Represents the name of the event.\n",
        "\n",
        "c. event_date: Represents the date of the event.\n",
        "\n",
        "d. venue: Represents the venue of the event.\n",
        "\n",
        "e. seat_number: Represents the seat number associated with the ticket.\n",
        "\n",
        "f. price: Represents the price of the ticket.\n",
        "\n",
        "g. is_reserved: Represents the reservation status of the ticket.\n",
        "The class also includes the following methods:\n",
        "\n",
        "  a. reserve_ticket(self): Marks the ticket as reserved if it is not already reserved.\n",
        "\n",
        "  b. cancel_reservation(self): Cancels the reservation of the ticket if it is already reserved.\n",
        "\n",
        "  c.  display_ticket_info(self): Displays the information about the ticket, including its attributes and reservation status."
      ],
      "metadata": {
        "id": "ce4eXlMujS8l"
      }
    },
    {
      "cell_type": "code",
      "source": [
        "class Ticket:\n",
        "    def __init__(self, ticket_id, event_name, event_date, venue, seat_number, price, is_reserved=False):\n",
        "        self.ticket_id = ticket_id\n",
        "        self.event_name = event_name\n",
        "        self.event_date = event_date\n",
        "        self.venue = venue\n",
        "        self.seat_number = seat_number\n",
        "        self.price = price\n",
        "        self.is_reserved = is_reserved\n",
        "\n",
        "    def reserve_ticket(self):\n",
        "        if not self.is_reserved:\n",
        "            self.is_reserved = True\n",
        "            print(\"Ticket reserved successfully.\")\n",
        "        else:\n",
        "            print(\"Ticket is already reserved.\")\n",
        "\n",
        "    def cancel_reservation(self):\n",
        "        if self.is_reserved:\n",
        "            self.is_reserved = False\n",
        "            print(\"Reservation canceled successfully.\")\n",
        "        else:\n",
        "            print(\"Ticket is not currently reserved.\")\n",
        "\n",
        "    def display_ticket_info(self):\n",
        "        print(f\"Ticket ID: {self.ticket_id}\")\n",
        "        print(f\"Event: {self.event_name}\")\n",
        "        print(f\"Event Date: {self.event_date}\")\n",
        "        print(f\"Venue: {self.venue}\")\n",
        "        print(f\"Seat Number: {self.seat_number}\")\n",
        "        print(f\"Price: ${self.price}\")\n",
        "        print(f\"Reservation Status: {'Reserved' if self.is_reserved else 'Not Reserved'}\")\n",
        "\n",
        "# Creating an instance of Ticket\n",
        "ticket1 = Ticket(\"T12345\", \"Concert Night\", \"2023-09-01\", \"City Arena\", \"A12\", 50.0)\n",
        "\n",
        "# Using the methods of the Ticket class\n",
        "ticket1.reserve_ticket()\n",
        "ticket1.display_ticket_info()\n",
        "ticket1.cancel_reservation()\n",
        "ticket1.display_ticket_info()\n"
      ],
      "metadata": {
        "colab": {
          "base_uri": "https://localhost:8080/"
        },
        "id": "-_V6nSAA12T3",
        "outputId": "2cd465e6-76f4-4d0f-e5c0-3864156287ae"
      },
      "execution_count": 10,
      "outputs": [
        {
          "output_type": "stream",
          "name": "stdout",
          "text": [
            "Ticket reserved successfully.\n",
            "Ticket ID: T12345\n",
            "Event: Concert Night\n",
            "Event Date: 2023-09-01\n",
            "Venue: City Arena\n",
            "Seat Number: A12\n",
            "Price: $50.0\n",
            "Reservation Status: Reserved\n",
            "Reservation canceled successfully.\n",
            "Ticket ID: T12345\n",
            "Event: Concert Night\n",
            "Event Date: 2023-09-01\n",
            "Venue: City Arena\n",
            "Seat Number: A12\n",
            "Price: $50.0\n",
            "Reservation Status: Not Reserved\n"
          ]
        }
      ]
    },
    {
      "cell_type": "markdown",
      "source": [
        "## **9. You are creating a shopping cart for an e-commerce website. Using OOP to model the \"ShoppingCart\" functionality the class should contain following attributes and methods:**\n",
        "a. items: Represents the list of items in the shopping cart.\n",
        "The class also includes the following methods:\n",
        "\n",
        "a. add_item(self, item): Adds an item to the shopping cart by appending it to the list of items.\n",
        "\n",
        "b. remove_item(self, item): Removes an item from the shopping cart if it exists in the list.\n",
        "\n",
        "c. view_cart(self): Displays the items currently present in the shopping cart.\n",
        "\n",
        "d. clear_cart(self): Clears all items from the shopping cart by reassigning an empty list to the items attribute."
      ],
      "metadata": {
        "id": "93USEncjj3Hp"
      }
    },
    {
      "cell_type": "code",
      "source": [
        "class ShoppingCart:\n",
        "    def __init__(self):\n",
        "        self.items = []\n",
        "\n",
        "    def add_item(self, item):\n",
        "        self.items.append(item)\n",
        "        print(f\"Item '{item}' added to the shopping cart.\")\n",
        "\n",
        "    def remove_item(self, item):\n",
        "        if item in self.items:\n",
        "            self.items.remove(item)\n",
        "            print(f\"Item '{item}' removed from the shopping cart.\")\n",
        "        else:\n",
        "            print(f\"Item '{item}' not found in the shopping cart.\")\n",
        "\n",
        "    def view_cart(self):\n",
        "        if self.items:\n",
        "            print(\"Items in the shopping cart:\")\n",
        "            for item in self.items:\n",
        "                print(f\"- {item}\")\n",
        "        else:\n",
        "            print(\"Shopping cart is empty.\")\n",
        "\n",
        "    def clear_cart(self):\n",
        "        self.items = []\n",
        "        print(\"Shopping cart cleared.\")\n",
        "\n",
        "# Creating an instance of ShoppingCart\n",
        "cart = ShoppingCart()\n",
        "\n",
        "# Using the methods of the ShoppingCart class\n",
        "cart.add_item(\"Shoes\")\n",
        "cart.add_item(\"T-shirt\")\n",
        "cart.view_cart()\n",
        "\n",
        "cart.remove_item(\"Shoes\")\n",
        "cart.view_cart()\n",
        "\n",
        "cart.clear_cart()\n",
        "cart.view_cart()\n"
      ],
      "metadata": {
        "colab": {
          "base_uri": "https://localhost:8080/"
        },
        "id": "wiB3xfTz1_gy",
        "outputId": "3bcb1c17-58f3-4ef9-a2b2-a8910f146d20"
      },
      "execution_count": 11,
      "outputs": [
        {
          "output_type": "stream",
          "name": "stdout",
          "text": [
            "Item 'Shoes' added to the shopping cart.\n",
            "Item 'T-shirt' added to the shopping cart.\n",
            "Items in the shopping cart:\n",
            "- Shoes\n",
            "- T-shirt\n",
            "Item 'Shoes' removed from the shopping cart.\n",
            "Items in the shopping cart:\n",
            "- T-shirt\n",
            "Shopping cart cleared.\n",
            "Shopping cart is empty.\n"
          ]
        }
      ]
    },
    {
      "cell_type": "markdown",
      "source": [
        "## **10. Imagine a school management system. You have to design the \"Student\" class using OOP concepts.The “Student” class has the following attributes:**\n",
        "a. name: Represents the name of the student.\n",
        "\n",
        "b. age: Represents the age of the student.\n",
        "\n",
        "c. grade: Represents the grade or class of the student.\n",
        "\n",
        "d. student_id: Represents the unique identifier for the student.\n",
        "\n",
        "e. attendance: Represents the attendance record of the student.\n",
        "\n",
        "The class should also include the following methods:\n",
        "a. update_attendance(self, date, status): Updates the attendance record of the student for a given date with the provided status (e.g., present or absent).\n",
        "\n",
        "b. get_attendance(self): Returns the attendance record of the student.\n",
        "\n",
        "c. get_average_attendance(self): Calculates and returns the average\n",
        "attendance percentage of the student based on their attendance record."
      ],
      "metadata": {
        "id": "MOAujKcQkDn5"
      }
    },
    {
      "cell_type": "code",
      "source": [
        "class Student:\n",
        "    def __init__(self, name, age, grade, student_id):\n",
        "        self.name = name\n",
        "        self.age = age\n",
        "        self.grade = grade\n",
        "        self.student_id = student_id\n",
        "        self.attendance = {}\n",
        "\n",
        "    def update_attendance(self, date, status):\n",
        "        self.attendance[date] = status\n",
        "        print(f\"Attendance for {date} updated: {status}\")\n",
        "\n",
        "    def get_attendance(self):\n",
        "        return self.attendance\n",
        "\n",
        "    def get_average_attendance(self):\n",
        "        if not self.attendance:\n",
        "            return 0.0\n",
        "\n",
        "        total_days = len(self.attendance)\n",
        "        present_days = sum(1 for status in self.attendance.values() if status == \"present\")\n",
        "        average_attendance = (present_days / total_days) * 100\n",
        "        return average_attendance\n",
        "\n",
        "# Creating an instance of Student\n",
        "student1 = Student(\"Alice\", 15, \"10th Grade\", \"S12345\")\n",
        "\n",
        "# Using the methods of the Student class\n",
        "student1.update_attendance(\"2023-08-10\", \"present\")\n",
        "student1.update_attendance(\"2023-08-11\", \"absent\")\n",
        "\n",
        "print(\"Attendance Record:\", student1.get_attendance())\n",
        "print(\"Average Attendance:\", student1.get_average_attendance(), \"%\")\n"
      ],
      "metadata": {
        "colab": {
          "base_uri": "https://localhost:8080/"
        },
        "id": "QjyFM0vu2IQf",
        "outputId": "986de343-8f47-4185-df23-627be5d1b263"
      },
      "execution_count": 12,
      "outputs": [
        {
          "output_type": "stream",
          "name": "stdout",
          "text": [
            "Attendance for 2023-08-10 updated: present\n",
            "Attendance for 2023-08-11 updated: absent\n",
            "Attendance Record: {'2023-08-10': 'present', '2023-08-11': 'absent'}\n",
            "Average Attendance: 50.0 %\n"
          ]
        }
      ]
    }
  ]
}