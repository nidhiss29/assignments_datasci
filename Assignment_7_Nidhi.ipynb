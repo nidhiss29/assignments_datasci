{
  "nbformat": 4,
  "nbformat_minor": 0,
  "metadata": {
    "colab": {
      "provenance": []
    },
    "kernelspec": {
      "name": "python3",
      "display_name": "Python 3"
    },
    "language_info": {
      "name": "python"
    }
  },
  "cells": [
    {
      "cell_type": "markdown",
      "source": [
        "## **Q.1. Create two int type variables, apply addition, subtraction, division and multiplications and store the results in variables. Then print the data in the following format by calling the variables:**\n",
        "First variable is __ & second variable is __.\n",
        "\n",
        "Addition: __ + __ = __\n",
        "\n",
        "Subtraction: __ - __ = __\n",
        "\n",
        "Multiplication: __ * __ = __\n",
        "\n",
        "Division: __ / __ = __\n"
      ],
      "metadata": {
        "id": "Fw1lOQxBhIiy"
      }
    },
    {
      "cell_type": "code",
      "source": [
        "first_variable = 10\n",
        "second_variable = 5\n",
        "addition_result = first_variable + second_variable\n",
        "subtraction_result = first_variable - second_variable\n",
        "multiplication_result = first_variable * second_variable\n",
        "division_result = first_variable / second_variable\n",
        "# Print the data in the specified format\n",
        "print(f\"First variable is {first_variable} & second variable is {second_variable}.\")\n",
        "print(f\"Addition: {first_variable} + {second_variable} = {addition_result}\")\n",
        "print(f\"Subtraction: {first_variable} - {second_variable} = {subtraction_result}\")\n",
        "print(f\"Multiplication: {first_variable} * {second_variable} = {multiplication_result}\")\n",
        "print(f\"Division: {first_variable} / {second_variable} = {division_result}\")\n"
      ],
      "metadata": {
        "colab": {
          "base_uri": "https://localhost:8080/"
        },
        "id": "tR9gROThhJ9_",
        "outputId": "eab8a578-18ea-4b0b-d146-c8dbd5db82a5"
      },
      "execution_count": 1,
      "outputs": [
        {
          "output_type": "stream",
          "name": "stdout",
          "text": [
            "First variable is 10 & second variable is 5.\n",
            "Addition: 10 + 5 = 15\n",
            "Subtraction: 10 - 5 = 5\n",
            "Multiplication: 10 * 5 = 50\n",
            "Division: 10 / 5 = 2.0\n"
          ]
        }
      ]
    },
    {
      "cell_type": "markdown",
      "source": [
        "## **Q.2. What is the difference between the following operators:**\n",
        "## **(i)\t‘/’ & ‘//’**\n",
        "## (ii)\t‘**’ & ‘^’\n",
        "\n",
        "- `'/'` is the division operator in Python, and it performs regular floating-point division. It calculates the quotient of the division and returns a floating-point result.\n",
        "\n",
        "- `'//'` is the floor division operator in Python. It calculates the quotient of the division, but rounds down to the nearest integer, returning an integer result.\n",
        "\n",
        "example:\n"
      ],
      "metadata": {
        "id": "P-qw_bFxhrS1"
      }
    },
    {
      "cell_type": "code",
      "source": [
        "a = 10\n",
        "b = 3\n",
        "regular_division = a / b\n",
        "floor_division = a // b\n",
        "print(regular_division)\n",
        "print(floor_division)"
      ],
      "metadata": {
        "colab": {
          "base_uri": "https://localhost:8080/"
        },
        "id": "wLLiruJckTc3",
        "outputId": "36b80f1f-8c73-474e-bc53-9e7c5e0d5dde"
      },
      "execution_count": 3,
      "outputs": [
        {
          "output_type": "stream",
          "name": "stdout",
          "text": [
            "3.3333333333333335\n",
            "3\n"
          ]
        }
      ]
    },
    {
      "cell_type": "markdown",
      "source": [
        "- `'**'` is the exponentiation operator in Python. It raises the left operand to the power of the right operand.\n",
        "\n",
        "- `' ^ '` is not an exponentiation operator in Python. Instead, it's the bitwise XOR operator, which performs a bitwise exclusive OR operation between two integers.\n",
        "\n",
        "example:"
      ],
      "metadata": {
        "id": "j8j4Idvdkjn7"
      }
    },
    {
      "cell_type": "code",
      "source": [
        "x= 8\n",
        "y=2\n",
        "exponentiation = x ** y\n",
        "bitwise_xor = x ^ y"
      ],
      "metadata": {
        "id": "YuWtjfPgkmfc"
      },
      "execution_count": 4,
      "outputs": []
    },
    {
      "cell_type": "markdown",
      "source": [
        "## **Q.3.\tList the logical operators.**\n",
        "\n",
        "The logical operators are used to perform logical operations on Boolean values or expressions\n",
        "\n",
        "1. `and`: Returns `True` if both operands are `True`, otherwise returns `False`.\n",
        "2. `or`: Returns `True` if at least one of the operands is `True`, otherwise returns `False`.\n",
        "3. `not`: Returns the opposite Boolean value of the operand; if `True`, it returns `False`, and if `False`, it returns `True`.\n"
      ],
      "metadata": {
        "id": "UYOQ-3uukzls"
      }
    },
    {
      "cell_type": "markdown",
      "source": [
        "## **Q.4.\tExplain right shift operator and left shift operator with examples.**\n",
        "\n",
        "The right shift operator (`>>`) shifts the bits of a number to the right by a specified number of positions.\n",
        "\n",
        "example:\n",
        "\n"
      ],
      "metadata": {
        "id": "aehZzeOalEIW"
      }
    },
    {
      "cell_type": "code",
      "source": [
        "x = 16  # Binary: 10000\n",
        "y = x >> 2\n",
        "print(y)  #binary 100 thats is 4"
      ],
      "metadata": {
        "colab": {
          "base_uri": "https://localhost:8080/"
        },
        "id": "Ng4idA0elH9l",
        "outputId": "f03a5319-a7dc-4d92-dc99-7f458883f735"
      },
      "execution_count": 6,
      "outputs": [
        {
          "output_type": "stream",
          "name": "stdout",
          "text": [
            "4\n"
          ]
        }
      ]
    },
    {
      "cell_type": "markdown",
      "source": [
        "The left shift operator (`<<`) shifts the bits of a number to the left by a specified number of positions.\n",
        "\n",
        "example:"
      ],
      "metadata": {
        "id": "Q468I1VwlPH_"
      }
    },
    {
      "cell_type": "code",
      "source": [
        "x = 4  # Binary: 100\n",
        "y = x << 3\n",
        "print(y)  # Output: 32 (Binary: 100000)"
      ],
      "metadata": {
        "colab": {
          "base_uri": "https://localhost:8080/"
        },
        "id": "8vbFuWB4lR1H",
        "outputId": "87410fca-c2a6-429e-958f-a97b94481481"
      },
      "execution_count": 7,
      "outputs": [
        {
          "output_type": "stream",
          "name": "stdout",
          "text": [
            "32\n"
          ]
        }
      ]
    },
    {
      "cell_type": "markdown",
      "source": [
        "## **Q.5.\tCreate a list containing int type data of length 15. Then write a code to check if 10 is present in the list or not.**\n",
        "\n",
        "\n"
      ],
      "metadata": {
        "id": "xqQyA0kylWaF"
      }
    },
    {
      "cell_type": "code",
      "source": [
        "# Create a list of integers\n",
        "my_list = [5, 8, 2, 10, 15, 6, 12, 18, 7, 3, 20, 25, 9, 14, 30]\n",
        "\n",
        "# Check if 10 is present in the list\n",
        "if 10 in my_list:\n",
        "  print(\"10 is present in the list.\")\n",
        "else:\n",
        "  print(\"10 is not present in the list.\")"
      ],
      "metadata": {
        "colab": {
          "base_uri": "https://localhost:8080/"
        },
        "id": "NVPfe2gClZcP",
        "outputId": "45318839-a3bc-41f5-a5ba-7b090a96364d"
      },
      "execution_count": 8,
      "outputs": [
        {
          "output_type": "stream",
          "name": "stdout",
          "text": [
            "10 is present in the list.\n"
          ]
        }
      ]
    }
  ]
}