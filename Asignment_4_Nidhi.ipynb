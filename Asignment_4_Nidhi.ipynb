{
  "nbformat": 4,
  "nbformat_minor": 0,
  "metadata": {
    "colab": {
      "provenance": []
    },
    "kernelspec": {
      "name": "python3",
      "display_name": "Python 3"
    },
    "language_info": {
      "name": "python"
    }
  },
  "cells": [
    {
      "cell_type": "markdown",
      "source": [
        "## **1.\tWhat exactly is []?**\n",
        "\n",
        "In Python, `[]` represents an empty list. A list is a data structure that can hold an ordered collection of elements, which can be of any data type, including other lists. An empty list contains no elements.\n",
        "Example:\n",
        "\n",
        "`my_list = []          # Create an empty list`\n"
      ],
      "metadata": {
        "id": "BCbYttOtFoSR"
      }
    },
    {
      "cell_type": "markdown",
      "source": [
        "## **2. In a list of values stored in a variable called spam, how would you assign the value 'hello' as the third value? (Assume [2, 4, 6, 8, 10] are in spam.)**\n",
        "## **Let's pretend the spam includes the list ['a', 'b', 'c', 'd'] for the next three queries.**\n",
        "\n",
        "In Python, you can assign the value 'hello' :\n",
        "\n",
        "\n",
        "```\n",
        "spam = [2, 4, 6, 8, 10]\n",
        "spam[2] = 'hello'\n",
        "```\n",
        "\n",
        "\n",
        "For the next three queries, where the spam includes the list `['a', 'b', 'c', 'd']`\n",
        "\n",
        "Query 1: How would you replace the value 'b' with 'z' in the list?\n",
        "`spam[1] = 'z'`\n",
        "Query 2: How would you add the value 'e' to the end of the list?\n",
        "`spam.append('e')`\n",
        "Query 3: How would you remove the value 'c' from the list?\n",
        "`spam.remove('c')`\n"
      ],
      "metadata": {
        "id": "a2wLuNz0Fx7B"
      }
    },
    {
      "cell_type": "markdown",
      "source": [
        "## 3.\tWhat is the value of spam[int(int('3' * 2) / 11)]? **bold text**\n",
        "\n",
        "1. `'3' * 2` results in the string `'33'`.\n",
        "2. `int('33')` converts the string `'33'` to an integer `33`.\n",
        "3. `int('3' * 2) / 11` divides `33` by `11`\n",
        "\n",
        "So, `spam[int(int('3' * 2) / 11)]` is equivalent to `spam[3]`.\n",
        "\n",
        "Given that `spam` is the list `['a', 'b', 'c', 'd']`, accessing index `3` will\n",
        "\n",
        "return the value `'d'`.\n"
      ],
      "metadata": {
        "id": "KJ97c5ZXGKUj"
      }
    },
    {
      "cell_type": "markdown",
      "source": [
        "## **4.\tWhat is the value of spam[-1]?**\n",
        "The value of `spam[-1]` refers to the last element of the list stored in the variable `spam`.\n",
        "\n",
        "If we assume that `spam` contains the list `['a', 'b', 'c', 'd']`, then the value of `spam[-1]` would be `'d'`, as `'d'` is the last element of the list.\n"
      ],
      "metadata": {
        "id": "6KhJvcmaGQ-x"
      }
    },
    {
      "cell_type": "markdown",
      "source": [
        "## **5.\tWhat is the value of spam[:2]?**\n",
        "\n",
        "spam[:2], it selects a subsequence of elements from the list starting at index 0 up to, but not including, the element at index 2.\n",
        "\n",
        "If we assume that `spam` contains the list `['a', 'b', 'c', 'd']`, then `spam[:2]` would result in a new list containing the elements at indexes 0 and 1.\n",
        "\n",
        "So, the value of `spam[:2]` would be `['a', 'b']`.\n"
      ],
      "metadata": {
        "id": "j2xgKowLGXDk"
      }
    },
    {
      "cell_type": "markdown",
      "source": [
        "## **Let's pretend bacon has the list [3.14, 'cat,' 11, 'cat,' True] for the next three questions.**"
      ],
      "metadata": {
        "id": "EeZ0V3DeGfMC"
      }
    },
    {
      "cell_type": "markdown",
      "source": [
        "## **6.\tWhat is the value of bacon.index('cat')?**\n",
        "\n",
        "For the list `bacon = [3.14, 'cat', 11, 'cat', True]`, the value `'cat'` appears at index 1 and index 3. However, the `index()` method returns the index of the first occurrence, so `bacon.index('cat')` would return `1`.\n"
      ],
      "metadata": {
        "id": "rDjKsEaGGi16"
      }
    },
    {
      "cell_type": "markdown",
      "source": [
        "## **7.\tHow does bacon.append(99) change the look of the list value in bacon?**\n",
        "\n",
        "The `append()` method in Python is used to add an element to the end of a list , it will add the value `99` to the end of the list.\n",
        "\n",
        "[3.14, 'cat', 11, 'cat', True, 99]\n"
      ],
      "metadata": {
        "id": "5oMJGaV7Goep"
      }
    },
    {
      "cell_type": "markdown",
      "source": [
        "## **8.\tHow does bacon.remove('cat') change the look of the list in bacon?**\n",
        "\n",
        "The `remove()` method in Python is used to remove the first occurrence of a specified value from a list\n",
        "\n",
        "[3.14, 11, 'cat', True]\n"
      ],
      "metadata": {
        "id": "WJ5OtS4FGrKM"
      }
    },
    {
      "cell_type": "markdown",
      "source": [
        "# **9.\tWhat are the list concatenation and list replication operators?**\n",
        "**1. List Concatenation (+):** The `+` operator is used to concatenate (combine) two or more lists to create a new list.   \n",
        "  \n",
        "\n",
        "\n",
        "2. List Replication (*):  The * operator is used to replicate a list by repeating its elements a specified number of times.\n",
        "\n",
        "Example of concatenation:\n"
      ],
      "metadata": {
        "id": "d3HGxbpAGunq"
      }
    },
    {
      "cell_type": "code",
      "source": [
        "list1 = [1, 2, 3]\n",
        "list2 = [4, 5, 6]\n",
        "concatenated_list = list1 + list2\n",
        "print(concatenated_list)"
      ],
      "metadata": {
        "colab": {
          "base_uri": "https://localhost:8080/"
        },
        "id": "7FCmrDOKG_en",
        "outputId": "c392697b-548a-40be-adc0-2d14ae4940de"
      },
      "execution_count": 2,
      "outputs": [
        {
          "output_type": "stream",
          "name": "stdout",
          "text": [
            "[1, 2, 3, 4, 5, 6]\n"
          ]
        }
      ]
    },
    {
      "cell_type": "markdown",
      "source": [
        "Example of replication\n"
      ],
      "metadata": {
        "id": "XiFgJH8ZHiUd"
      }
    },
    {
      "cell_type": "code",
      "source": [
        "original_list = [1, 2, 3]\n",
        "replicated_list = original_list * 3\n",
        "print(replicated_list)\n"
      ],
      "metadata": {
        "colab": {
          "base_uri": "https://localhost:8080/"
        },
        "id": "IfbIf4CbHkMx",
        "outputId": "60eb5a32-5f24-4ab7-a8e0-e0aa211cf246"
      },
      "execution_count": 3,
      "outputs": [
        {
          "output_type": "stream",
          "name": "stdout",
          "text": [
            "[1, 2, 3, 1, 2, 3, 1, 2, 3]\n"
          ]
        }
      ]
    },
    {
      "cell_type": "markdown",
      "source": [
        "## **10.\tWhat is difference between the list methods append() and insert()**\n",
        "\n",
        "**1. append()` Method:**\n",
        "   - The `append()` method is used to add a single element to the end of a list.\n",
        "   - It takes one argument, which is the element you want to add.\n",
        "\n",
        "   Example:\n",
        "   \n",
        "\n",
        "```\n",
        "my_list = [1, 2, 3]\n",
        "my_list.append(4)  # Adds 4 to the end of the list\n",
        "```\n",
        "\n",
        "\n",
        "\n",
        "**2. insert()` Method:**\n",
        "   - The `insert()` method is used to add a single element at a specific index in a list.\n",
        "   - It takes two arguments: the index where you want to insert the element and the element itself.\n",
        "   Example:\n",
        "   \n",
        "\n",
        "```\n",
        "my_list = [1, 2, 3]\n",
        "my_list.insert(1, 5)  # Inserts 5 at index 1\n",
        "```\n",
        "\n",
        "\n"
      ],
      "metadata": {
        "id": "r0r4dxCmHr70"
      }
    },
    {
      "cell_type": "markdown",
      "source": [
        "## **11.\tWhat are the two methods for removing items from a list?**\n",
        "\n",
        "**1. remove() Method**:\n",
        "   - The `remove()` method is used to remove the first occurrence of a specified value from the list.\n",
        "   - It takes one argument, which is the value you want to remove.\n",
        "\n",
        "   Example:\n",
        "\n",
        "\n",
        "```\n",
        "   my_list = [1, 2, 3, 2, 4]\n",
        "   my_list.remove(2)  # Removes the first occurrence of 2\n",
        "```\n",
        "\n",
        "\n",
        "\n",
        "**2. pop()` Method:**\n",
        "   - The `pop()` method is used to remove an element from a specific index in the list.\n",
        "   - It can take an optional index argument (default is -1), indicating the index of the element to remove.\n",
        "\n",
        "   Example:\n",
        "\n",
        "\n",
        "```\n",
        "   my_list = [1, 2, 3, 4]\n",
        "   removed_element = my_list.pop(1)  # Removes element at index 1 (2)\n",
        "\n",
        "```\n",
        "\n"
      ],
      "metadata": {
        "id": "SPqLrtikH6yX"
      }
    },
    {
      "cell_type": "markdown",
      "source": [
        "## **12. Describe how list values and string values are identical.**\n",
        "**1. Ordered Sequences:** Both lists and strings are ordered sequences of elements.\n",
        "**2. Indexing:**  Elements in both lists and strings can be accessed using index numbers. Indexing starts from 0 .\n",
        "\n",
        "**3. Slicing:** Slicing is supported for both lists and strings. You can extract subsequences of elements.\n",
        "\n",
        "**4. Iteration:** Both lists and strings can be iterated over using loops (such as `for` loops) to access each individual element in sequence.\n",
        "\n",
        "**5. Concatenation:**  Both lists and strings can be concatenated using the `+` operator.\n",
        "**6. Replication:** Both lists and strings support replication using the `*` operator.\n",
        "\n",
        "**7. Length:**  The `len()` function can be used to determine the number of elements in both lists and strings.\n",
        "\n",
        "\n",
        "\n",
        "**8. Mutability:**  One of the main differences is that lists are mutable, meaning you can change, add, or remove elements from a list after it is created.\n",
        "\n",
        "**9. Content Types:**  Lists can contain elements of different types, such as integers, strings, floats, etc. Strings are specifically designed to hold sequences of characters.\n"
      ],
      "metadata": {
        "id": "r8mGHix8ILak"
      }
    },
    {
      "cell_type": "markdown",
      "source": [
        "## **13. What's the difference between tuples and lists?**\n",
        "**1. Mutability:**\n",
        "   - Lists are mutable, which means their elements can be modified, added, or removed after creation.\n",
        "   - Tuples are immutable, meaning their elements cannot be changed once they are assigned. Once a tuple is created, its elements remain fixed.\n",
        "\n",
        "**2. Syntax:**\n",
        "   - Lists are defined using square brackets `[ ]`, and elements are separated by commas.\n",
        "   - Tuples are defined using parentheses `( )`, and elements are also separated by commas.\n",
        "\n",
        "\n",
        "**3. Performance:**\n",
        "   - Tuples generally have a slightly smaller memory overhead compared to lists because of their immutability.\n",
        "- Accessing elements in both lists and tuples is fast (O(1)) since they both use indexing.\n",
        "\n",
        "**4. Iteration and Iterability:**\n",
        "   - Both tuples and lists can be iterated over using loops, like `for` loops.\n",
        "   - Since tuples are immutable, they can be used as dictionary keys or elements of sets, while lists cannot.\n",
        "\n"
      ],
      "metadata": {
        "id": "azbWDN5PImkY"
      }
    },
    {
      "cell_type": "markdown",
      "source": [
        "## **14. How do you type a tuple value that only contains the integer 42?**\n",
        "\n",
        "To create a tuple that contains only the integer `42`, you can use the following syntax in Python:\n",
        "\n",
        "`my_tuple = (42,)`\n",
        "\n",
        "Notice the comma `,` after the `42`. It is necessary to distinguish between a single-element tuple and just an integer in parentheses\n"
      ],
      "metadata": {
        "id": "9_Vy_5gMI_Mv"
      }
    },
    {
      "cell_type": "markdown",
      "source": [
        "## **15. How do you get a list value's tuple form? How do you get a tuple value's list form?**\n",
        "**1. Converting List to Tuple:**\n",
        "   To convert a list into a tuple, you can use the `tuple()` function. It takes the list as an argument and returns a tuple containing the same elements.\n",
        " Example:\n",
        "   \n",
        "\n",
        "```\n",
        "my_list = [1, 2, 3]\n",
        "my_tuple = tuple(my_list)\n",
        "```\n",
        "\n",
        "\n",
        "**2. Converting Tuple to List:**\n",
        "   To convert a tuple into a list, you can use the `list()` function. It takes the tuple as an argument and returns a list containing the same elements.\n",
        "Example:\n",
        "  \n",
        "\n",
        "```\n",
        "my_tuple = (4, 5, 6)\n",
        "my_list = list(my_tuple)\n",
        "```\n",
        "\n",
        "\n"
      ],
      "metadata": {
        "id": "T5opZyBHJQak"
      }
    },
    {
      "cell_type": "markdown",
      "source": [
        "## **16. Variables that \"contain\" list values are not necessarily lists themselves. Instead, what do they contain?**\n",
        "\n",
        "Variables that \"contain\" list values in Python are not actually storing the list itself, but rather a reference to the list. This is a key concept in Python's memory model.\n",
        "\n",
        "In other words, when you assign a list to a variable, the variable holds a reference to the memory location where the list data is stored. This reference allows you to access and manipulate the list's elements using the variable, but the variable is not the list itself.\n",
        "\n",
        "\n",
        "```\n",
        "original_list = [1, 2, 3]\n",
        "new_list = original_list\n",
        "```\n",
        "\n",
        "\n"
      ],
      "metadata": {
        "id": "BS3rp2A5JcJe"
      }
    },
    {
      "cell_type": "markdown",
      "source": [
        "## **17. How do you distinguish between copy.copy() and copy.deepcopy()?**\n",
        "\n",
        "In Python, the `copy` module provides two functions for creating copies of objects: `copy()` and `deepcopy()`. Both functions are used to create copies of objects, but they handle nested objects (objects within objects) differently.\n",
        "\n",
        "**1. copy.copy()` (Shallow Copy):**\n",
        "   - The `copy.copy()` function creates a shallow copy of an object. This means that the top-level object is duplicated, but objects within it are not recursively copied.\n",
        "  - Changes to nested objects (if any) within the copied object will affect the original object, and vice versa.\n",
        "\n",
        "**2. copy.deepcopy()` (Deep Copy):**\n",
        "   - The `copy.deepcopy()` function creates a deep copy of an object. This means that both the top-level object and all the objects within it are recursively duplicated.\n",
        "   - Changes to nested objects within the copied object do not affect the original object, and vice versa.\n",
        "\n",
        "\n"
      ],
      "metadata": {
        "id": "xNAPRiogJlu5"
      }
    },
    {
      "cell_type": "code",
      "source": [
        "import copy\n",
        "original_list = [1, [2, 3]]\n",
        "shallow_copy = copy.copy(original_list)\n",
        "deep_copy = copy.deepcopy(original_list)\n",
        "print(shallow_copy)\n",
        "print(deep_copy)"
      ],
      "metadata": {
        "colab": {
          "base_uri": "https://localhost:8080/"
        },
        "id": "HkSgqTjrJyx-",
        "outputId": "3910702d-ddc5-42b0-aded-097036014d15"
      },
      "execution_count": 4,
      "outputs": [
        {
          "output_type": "stream",
          "name": "stdout",
          "text": [
            "[1, [2, 3]]\n",
            "[1, [2, 3]]\n"
          ]
        }
      ]
    }
  ]
}