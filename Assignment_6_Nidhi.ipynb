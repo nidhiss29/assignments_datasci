{
  "nbformat": 4,
  "nbformat_minor": 0,
  "metadata": {
    "colab": {
      "provenance": []
    },
    "kernelspec": {
      "name": "python3",
      "display_name": "Python 3"
    },
    "language_info": {
      "name": "python"
    }
  },
  "cells": [
    {
      "cell_type": "markdown",
      "source": [
        "## **Q.1. What are keywords in python? Using the keyword library, print all the python keywords.**\n",
        "**Answer:**\n",
        "\n",
        "Keywords in Python are reserved words that have predefined meanings and cannot be used as identifiers (such as variable names, function names, etc.) in your code. keywords have specific meanings in the Python language and are used for various programming tasks.\n",
        "The `keyword` library in Python to get a list of all the keywords.\n"
      ],
      "metadata": {
        "id": "oeIUnTOuccIx"
      }
    },
    {
      "cell_type": "code",
      "source": [
        "import keyword\n",
        "all_keywords = keyword.kwlist\n",
        "print(all_keywords)\n"
      ],
      "metadata": {
        "colab": {
          "base_uri": "https://localhost:8080/"
        },
        "id": "SLH2iwOuchiJ",
        "outputId": "bee8f575-ed4a-4235-fb0b-68b8045eb33f"
      },
      "execution_count": 1,
      "outputs": [
        {
          "output_type": "stream",
          "name": "stdout",
          "text": [
            "['False', 'None', 'True', 'and', 'as', 'assert', 'async', 'await', 'break', 'class', 'continue', 'def', 'del', 'elif', 'else', 'except', 'finally', 'for', 'from', 'global', 'if', 'import', 'in', 'is', 'lambda', 'nonlocal', 'not', 'or', 'pass', 'raise', 'return', 'try', 'while', 'with', 'yield']\n"
          ]
        }
      ]
    },
    {
      "cell_type": "markdown",
      "source": [
        "## **Q.2. What are the rules to create variables in python?**\n",
        "**Answer:**  \n",
        "1. The name of a variable can consist of letters (both lowercase and\n",
        "uppercase), digits, and underscores.\n",
        "2. It must start with a letter (a-z, A-Z) or an underscore (_). Variables cannot start with a digit or any special characters.\n",
        "3. Python is case-sensitive, meaning that variables with different capitalizations are considered different. For example, myVariable and MYVARIABLE are all different variables.\n",
        "4. While there is no strict requirement, it's a good practice to follow the naming conventions. Use lowercase letters for variable names and separate words with underscores For example: my_variable, age.\n",
        "5. You cannot use Python keywords (reserved words) as variable names, such as if, else, etc.\n",
        "6. Descriptive Names: It's a good practice to use descriptive variable names that convey the purpose of the variable.\n"
      ],
      "metadata": {
        "id": "Fyl_o9bccphe"
      }
    },
    {
      "cell_type": "markdown",
      "source": [
        "## **Q.3. What are the standards and conventions followed for the nomenclature of variables in python to improve code readability and maintainability?**\n",
        "**Answer:**\n",
        "1. Use lowercase letters for variable names.\n",
        "2. Separate words in variable names using underscores (`snake_case`) to enhance readability.\n",
        "3. Avoid using single-character variable names (unless they represent well-known conventions, like `i` for loop counters).\n",
        "4. For constants, use uppercase letters and underscores (`ALL_CAPS`) to indicate that they should not be modified.\n",
        "5. Use descriptive and meaningful names that convey the purpose of the variable.\n",
        "6. Choose consistency in naming conventions throughout codebase.\n",
        "7. For class names, use `CamelCase` .\n"
      ],
      "metadata": {
        "id": "WjFcvTsIdG1z"
      }
    },
    {
      "cell_type": "markdown",
      "source": [
        "## **Q.4. What will happen if a keyword is used as a variable name?**\n",
        "**Answer:**  If you use a keyword as a variable name in Python, you will encounter a syntax error.\n",
        "For example,\n"
      ],
      "metadata": {
        "id": "QUb-vADddNTc"
      }
    },
    {
      "cell_type": "code",
      "source": [
        "if = 10 #throws syntax error as reserved word"
      ],
      "metadata": {
        "colab": {
          "base_uri": "https://localhost:8080/",
          "height": 141
        },
        "id": "4UDvyNybdSTC",
        "outputId": "dc043258-45c2-42e3-c60d-533c14e5d1b2"
      },
      "execution_count": 2,
      "outputs": [
        {
          "output_type": "error",
          "ename": "SyntaxError",
          "evalue": "ignored",
          "traceback": [
            "\u001b[0;36m  File \u001b[0;32m\"<ipython-input-2-563084b3e606>\"\u001b[0;36m, line \u001b[0;32m1\u001b[0m\n\u001b[0;31m    if = 10\u001b[0m\n\u001b[0m       ^\u001b[0m\n\u001b[0;31mSyntaxError\u001b[0m\u001b[0;31m:\u001b[0m invalid syntax\n"
          ]
        }
      ]
    },
    {
      "cell_type": "markdown",
      "source": [
        "## **Q.5. For what purpose def keyword is used?**\n",
        "**Answer:**\n",
        "The `def` keyword in Python is used to define a function. Functions are blocks of reusable code that perform a specific task.\n",
        "Here's the basic syntax for defining a function using the `def` keyword:\n",
        "\n",
        "\n",
        "```\n",
        "def function_name(parameters):\n",
        "    # Function body\n",
        "```\n",
        "\n",
        "\n"
      ],
      "metadata": {
        "id": "oiCBUQCtdWnj"
      }
    },
    {
      "cell_type": "markdown",
      "source": [
        "## **Q.6. What is the operation of this special character ‘\\’?**\n",
        "**Answer:**  \n",
        "The special character `'\\'` is called the backslash in Python. It is used to escape characters that have a special meaning in strings or to create special characters. For example:\n",
        "- `\\'`: Represents a single quote within a string.\n",
        "- `\\\"`: Represents a double quote within a string.\n",
        "- `\\\\`: Represents a literal backslash within a string.\n",
        "- `\\n`: Represents a newline character.\n",
        "- `\\t`: Represents a tab character.\n",
        "- `\\r`: Represents a carriage return.\n",
        "- `\\b`: Represents a backspace.\n"
      ],
      "metadata": {
        "id": "8RZmaqqydiOp"
      }
    },
    {
      "cell_type": "markdown",
      "source": [
        "## **Q.7. Give an example of the following conditions:**\n",
        "## **(i)\tHomogeneous list**\n",
        "## **(ii)\tHeterogeneous set**\n",
        "## **(iii)\tHomogeneous tuple**\n",
        "**Answer:**   \n",
        "1. **Homogeneous List:** A homogeneous list contains elements of the same data type. In this example, all elements are integers.\n",
        "\n",
        "\n",
        "```\n",
        "homogeneous_list = [1, 2, 3, 4, 5]\n",
        "```\n",
        "\n",
        "\n",
        "**2. Heterogeneous Set:**  A heterogeneous set contains elements of different data types. In this example, the set contains a mix of integers, strings, and a boolean.\n",
        "\n",
        "\n",
        "```\n",
        "heterogeneous_set = {1, 'hello', True, 3.14}\n",
        "```\n",
        "\n",
        "\n",
        "3. Homogeneous Tuple: **bold text**  A homogeneous tuple contains elements of the same data type. In this example, all elements are strings.\n",
        "\n",
        "\n",
        "```\n",
        "homogeneous_tuple = ('apple', 'banana', 'cherry', 'date')\n",
        "```\n",
        "\n",
        "\n"
      ],
      "metadata": {
        "id": "cV64U5OSdoVQ"
      }
    },
    {
      "cell_type": "markdown",
      "source": [
        "## **Q.8.\tExplain the mutable and immutable data types with proper explanation & examples.**\n",
        "**Answer:**   \n",
        "1. **Mutable Data Types:**   Mutable data types are those whose values can be modified after they are created. This means you can change the contents of the object without creating a new instance of it. When you modify a mutable object, you are actually modifying the same object in memory.  Examples of mutable data types:\n",
        " 1. Lists    \n",
        " 2. Dictionaries    \n",
        " 3. Sets\n",
        "\n",
        "Example:\n",
        "\n"
      ],
      "metadata": {
        "id": "bb0Pi-pNeECi"
      }
    },
    {
      "cell_type": "code",
      "source": [
        "mutable_list = [1, 2, 3]\n",
        "mutable_list[1] = 4  # Modify an element\n",
        "mutable_list.append(5)  # Add an element\n",
        "mutable_list.remove(3)  # Remove an element\n",
        "print(mutable_list)"
      ],
      "metadata": {
        "colab": {
          "base_uri": "https://localhost:8080/"
        },
        "id": "dvjba7XheUps",
        "outputId": "5f5f6b44-5305-45ee-8fb7-7dcd8db2ab20"
      },
      "execution_count": 3,
      "outputs": [
        {
          "output_type": "stream",
          "name": "stdout",
          "text": [
            "[1, 4, 5]\n"
          ]
        }
      ]
    },
    {
      "cell_type": "markdown",
      "source": [
        "2. **Immutable Data Types:**    Immutable data types are those whose values cannot be changed after they are created. If you want to make any changes to an immutable object, you need to create a new instance with the desired modifications.   \n",
        "Examples :\n",
        "  1. Integers   \n",
        "  2. Floats   \n",
        "  3. Strings   \n",
        "  4. Tuples\n",
        "\n",
        "example:        "
      ],
      "metadata": {
        "id": "Gfp8_-W0ebKc"
      }
    },
    {
      "cell_type": "code",
      "source": [
        "immutable_string = \"Hello\"\n",
        "# immutable_string += \" World\"  # This will cause an error"
      ],
      "metadata": {
        "id": "4EEF6KyKej58"
      },
      "execution_count": null,
      "outputs": []
    },
    {
      "cell_type": "markdown",
      "source": [
        "\n",
        "## **Q.9.\tWrite a code to create the given structure using only for loop.**\n",
        "\n",
        "\n",
        "```\n",
        "    *\n",
        "   ***\n",
        "  *****\n",
        " *******\n",
        "*********\n",
        "```\n",
        "\n",
        "\n",
        "Answer:     \n"
      ],
      "metadata": {
        "id": "yE52ZRR0elQL"
      }
    },
    {
      "cell_type": "code",
      "source": [
        "rows = 5\n",
        "for i in range(1, rows + 1):\n",
        "  for j in range(1, rows - i + 1):\n",
        "    print(\" \", end=\"\")\n",
        "  for k in range(1, 2 * i):\n",
        "    print(\"*\", end=\"\")\n",
        "  print()\n"
      ],
      "metadata": {
        "colab": {
          "base_uri": "https://localhost:8080/"
        },
        "id": "c2FkBnfVexvY",
        "outputId": "00ceda6e-c03d-4ce0-b7d1-32371d536b14"
      },
      "execution_count": 4,
      "outputs": [
        {
          "output_type": "stream",
          "name": "stdout",
          "text": [
            "    *\n",
            "   ***\n",
            "  *****\n",
            " *******\n",
            "*********\n"
          ]
        }
      ]
    },
    {
      "cell_type": "markdown",
      "source": [
        "Q.10.\tWrite a code to create the given structure using while loop.\n",
        "\n",
        "\n",
        "```\n",
        "|||||||||\n",
        " |||||||\n",
        "  |||||\n",
        "   |||\n",
        "    |\n",
        "```\n",
        "\n",
        "\n",
        "\n",
        "Answer:\n"
      ],
      "metadata": {
        "id": "DL3NvmxDe93Z"
      }
    },
    {
      "cell_type": "code",
      "source": [
        "rows = 5\n",
        "i = 1\n",
        "while i <= rows:\n",
        "  j = 1\n",
        "  while j < i:\n",
        "    print(\" \", end=\"\")\n",
        "    j += 1\n",
        "  k = 1\n",
        "  while k <= 2 * (rows - i) + 1:\n",
        "    print(\"|\", end=\"\")\n",
        "    k += 1\n",
        "  print()\n",
        "  i += 1\n"
      ],
      "metadata": {
        "colab": {
          "base_uri": "https://localhost:8080/"
        },
        "id": "Hx6-wbTofja1",
        "outputId": "4aea26a8-c5a7-42b9-9c34-22d241d52e54"
      },
      "execution_count": 5,
      "outputs": [
        {
          "output_type": "stream",
          "name": "stdout",
          "text": [
            "|||||||||\n",
            " |||||||\n",
            "  |||||\n",
            "   |||\n",
            "    |\n"
          ]
        }
      ]
    }
  ]
}