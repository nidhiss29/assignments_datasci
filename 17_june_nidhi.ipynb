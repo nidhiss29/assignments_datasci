{
  "nbformat": 4,
  "nbformat_minor": 0,
  "metadata": {
    "colab": {
      "provenance": []
    },
    "kernelspec": {
      "name": "python3",
      "display_name": "Python 3"
    },
    "language_info": {
      "name": "python"
    }
  },
  "cells": [
    {
      "cell_type": "markdown",
      "source": [
        "## **1. What is the role of try and exception block?**\n",
        "\n",
        "In Python, the `try` and `except` blocks are used to handle exceptions, which are runtime errors or exceptional situations that can occur while a program is running. The primary role of the `try` and `except` blocks is to gracefully handle these exceptions and prevent them from causing the program to crash.\n",
        "\n",
        "1. `try` block: This block contains the code that you want to monitor for exceptions. It encloses the potentially risky code.\n",
        "\n",
        "2. `except` block: If an exception occurs within the `try` block, the program will jump to the corresponding `except` block. The `except` block contains the code that should be executed to handle the exception. You can specify the type of exception you want to catch after the `except` keyword, or you can use a generic `except` block to catch any exception.\n",
        "\n",
        "Example:\n",
        "\n"
      ],
      "metadata": {
        "id": "ORKiIFmZIaUl"
      }
    },
    {
      "cell_type": "code",
      "source": [
        "try:\n",
        "\n",
        "    result = int(\"abc\")  # This will raise a ValueError\n",
        "except ValueError:\n",
        "    # Code to handle the ValueError\n",
        "    print(\"Error: Invalid conversion to int\")\n",
        "except ZeroDivisionError:\n",
        "    # Code to handle the ZeroDivisionError\n",
        "    print(\"Error: Division by zero\")"
      ],
      "metadata": {
        "colab": {
          "base_uri": "https://localhost:8080/"
        },
        "id": "NSfqV69CJgI2",
        "outputId": "021ccd86-7fed-48ab-a812-78eb4e604064"
      },
      "execution_count": 1,
      "outputs": [
        {
          "output_type": "stream",
          "name": "stdout",
          "text": [
            "Error: Invalid conversion to int\n"
          ]
        }
      ]
    },
    {
      "cell_type": "markdown",
      "source": [
        "## **2. What is the syntax for a basic try-except block?**\n",
        "\n",
        "The basic syntax for a try-except block in Python is as follows:\n",
        "\n",
        "```python\n",
        "try:\n",
        "    # Code that might raise an exception\n",
        "    # ...\n",
        "except ExceptionType:\n",
        "    # Code to handle the exception\n",
        "    # ...\n",
        "```\n",
        "\n",
        "In this syntax:\n",
        "\n",
        "- The `try` block contains the code that you want to monitor for exceptions.\n",
        "- `ExceptionType` is the type of exception that you want to catch and handle.\n"
      ],
      "metadata": {
        "id": "9sgfu3ZSIeQB"
      }
    },
    {
      "cell_type": "markdown",
      "source": [
        "## **3. What happens if an exception occurs inside a try block and there is no matching except block?**\n",
        "\n",
        "If an exception occurs inside a `try` block and there is no matching `except` block to handle that specific type of exception, the exception will propagate up the call stack until it is caught by a suitable `except` block or until it reaches the top level of the program. If it is not caught anywhere in the program, the program will terminate, and an error message (the default exception message) will be displayed.\n",
        "\n",
        "\n",
        "\n",
        "Here's an example to illustrate what happens when there is no matching `except` block for an exception:\n",
        "\n",
        "Example:\n",
        "\n"
      ],
      "metadata": {
        "id": "sLBcP7IBIip4"
      }
    },
    {
      "cell_type": "code",
      "source": [
        "try:\n",
        "    result = 10 / 0  # This will raise a ZeroDivisionError\n",
        "except ValueError:\n",
        "    print(\"Caught a ValueError\")"
      ],
      "metadata": {
        "id": "Gmqufm4_KiZA"
      },
      "execution_count": null,
      "outputs": []
    },
    {
      "cell_type": "markdown",
      "source": [
        "## **4. What is the difference between using a bare except block and specifying a specific exception type?**\n",
        "\n",
        "\n",
        "1. **Bare `except` block:**\n",
        "A bare `except` block catches any and all exceptions that may occur within the `try` block. This includes both built-in exceptions and custom exceptions.\n",
        "\n",
        "Example:\n",
        "\n",
        "```python\n",
        "try:\n",
        "    result = 10 / 0  # This will raise a ZeroDivisionError\n",
        "except:\n",
        "    print(\"An error occurred\")\n",
        "```\n",
        "\n",
        "\n",
        "2. **Specifying a specific exception type:**\n",
        "Specifying a specific exception type in the `except` block allows you to catch and handle only the specified type of exception.\n",
        "\n",
        "Example:\n",
        "\n",
        "```python\n",
        "try:\n",
        "    result = 10 / 0  # This will raise a ZeroDivisionError\n",
        "except ZeroDivisionError:\n",
        "    print(\"Error: Division by zero\")\n",
        "```\n"
      ],
      "metadata": {
        "id": "Cs1z5X_aInbA"
      }
    },
    {
      "cell_type": "markdown",
      "source": [
        "## **5. Can you have nested try-except blocks in Python? If yes, then give an example.**\n",
        "\n",
        "Yes, we can have nested `try`-`except` blocks in Python. This means you can place one `try`-`except` block inside another, allowing you to handle exceptions at different levels of your code. This can be useful when you want to provide different levels of error handling\n",
        "\n",
        "example:\n",
        "\n",
        "\n",
        "\n"
      ],
      "metadata": {
        "id": "bLomgvH0It1L"
      }
    },
    {
      "cell_type": "code",
      "source": [
        "try:\n",
        "    # Outer try block\n",
        "    numerator = int(input(\"Enter the numerator: \"))\n",
        "    denominator = int(input(\"Enter the denominator: \"))\n",
        "\n",
        "    try:\n",
        "        # Inner try block\n",
        "        result = numerator / denominator\n",
        "    except ZeroDivisionError:\n",
        "        print(\"Error: Division by zero (inner)\")\n",
        "\n",
        "except ValueError:\n",
        "    print(\"Error: Invalid input (outer)\")"
      ],
      "metadata": {
        "colab": {
          "base_uri": "https://localhost:8080/"
        },
        "id": "Uoe9gK7SLaFI",
        "outputId": "90f30b5f-400f-474d-d0d5-83c2ce43038c"
      },
      "execution_count": 5,
      "outputs": [
        {
          "output_type": "stream",
          "name": "stdout",
          "text": [
            "Enter the numerator: hello\n",
            "Error: Invalid input (outer)\n"
          ]
        }
      ]
    },
    {
      "cell_type": "markdown",
      "source": [
        "## **6. Can we use multiple exception blocks, if yes then give an example.**\n",
        "\n",
        "Yes, we can use multiple `except` blocks to handle different types of exceptions in a `try`-`except` statement. This allows us to provide specific error handling for various types of exceptions that might occur within the `try` block.\n",
        "\n",
        "example:\n",
        "\n",
        "\n"
      ],
      "metadata": {
        "id": "4B-J6b8FIxIX"
      }
    },
    {
      "cell_type": "code",
      "source": [
        "try:\n",
        "    value = int(input(\"Enter an integer: \"))\n",
        "    result = 10 / value\n",
        "except ValueError:\n",
        "    print(\"Error: Invalid input. Please enter an integer.\")\n",
        "except ZeroDivisionError:\n",
        "    print(\"Error: Cannot divide by zero.\")\n",
        "except Exception as e:\n",
        "    print(f\"An error occurred: {e}\")\n",
        "else:\n",
        "    print(\"Division successful. Result:\", result)\n",
        "finally:\n",
        "    print(\"Execution complete.\")"
      ],
      "metadata": {
        "colab": {
          "base_uri": "https://localhost:8080/"
        },
        "id": "4CdqzS61L7OL",
        "outputId": "5de033ed-4c29-4479-a596-75e7da552d44"
      },
      "execution_count": 7,
      "outputs": [
        {
          "output_type": "stream",
          "name": "stdout",
          "text": [
            "Enter an integer: hello\n",
            "Error: Invalid input. Please enter an integer.\n",
            "Execution complete.\n"
          ]
        }
      ]
    },
    {
      "cell_type": "markdown",
      "source": [
        "## **7. Write the reason due to which following errors are raised:**\n",
        "a. EOFError\n",
        "\n",
        "b. FloatingPointError\n",
        "\n",
        "c. IndexError\n",
        "\n",
        "d. MemoryError\n",
        "\n",
        "e. OverflowError\n",
        "\n",
        "f. TabError\n",
        "\n",
        "g. ValueError\n"
      ],
      "metadata": {
        "id": "DeDHSmvpI0H_"
      }
    },
    {
      "cell_type": "markdown",
      "source": [
        "Answer:\n",
        "\n",
        "a. `EOFError`: This error occurs when the built-in `input()` function is used to read input from the user, and the end-of-file (EOF) condition is encountered.\n",
        "\n",
        "b. `FloatingPointError`: This error occurs when a floating-point arithmetic operation cannot be performed due to an exceptional condition, such as division by zero or an overflow or underflow in a floating-point calculation.\n",
        "\n",
        "c. `IndexError`: This error occurs when trying to access an index of a sequence (such as a list or a string) that is outside the valid range of indices.\n",
        "\n",
        "d. `MemoryError`: This error occurs when the Python interpreter runs out of available memory to allocate for new objects, typically due to excessive memory usage.\n",
        "\n",
        "\n",
        "e. `OverflowError`: This error occurs when an arithmetic operation results in a numeric value that is too large to be represented by the available data type, such as an integer overflow.\n",
        "\n",
        "f. `TabError`: This error occurs when inconsistent use of tabs and spaces for indentation is detected, usually within the same block of code. Python requires consistent and correct indentation.\n",
        "\n",
        "g. `ValueError`: This error occurs when a function or operation receives an argument of the correct data type but with an invalid or inappropriate value. For example, attempting to convert a string that does not represent a valid integer to an integer using `int()` will raise a `ValueError`.\n"
      ],
      "metadata": {
        "id": "zhfcx6KPMQon"
      }
    },
    {
      "cell_type": "markdown",
      "source": [
        "## **8. Write code for the following given scenario and add try-exception block to it.**\n",
        "a. Program to divide two numbers\n",
        "\n",
        "b. Program to convert a string to an integer\n",
        "\n",
        "c. Program to access an element in a list\n",
        "\n",
        "d. Program to handle a specific exception\n",
        "\n",
        "e. Program to handle any exception"
      ],
      "metadata": {
        "id": "rwqmPbtCI6Yd"
      }
    },
    {
      "cell_type": "markdown",
      "source": [
        "### **a. Program to divide two numbers:**\n"
      ],
      "metadata": {
        "id": "F9mgdIL0NEgQ"
      }
    },
    {
      "cell_type": "code",
      "source": [
        "try:\n",
        "    numerator = float(input(\"Enter the numerator: \"))\n",
        "    denominator = float(input(\"Enter the denominator: \"))\n",
        "    result = numerator / denominator\n",
        "    print(\"Result:\", result)\n",
        "except ZeroDivisionError:\n",
        "    print(\"Error: Division by zero\")\n",
        "except ValueError:\n",
        "    print(\"Error: Invalid input. Please enter valid numeric values.\")"
      ],
      "metadata": {
        "colab": {
          "base_uri": "https://localhost:8080/"
        },
        "id": "T-AEI5M5NO81",
        "outputId": "2b6a719a-87e4-41ed-b911-02e15cedc17c"
      },
      "execution_count": 8,
      "outputs": [
        {
          "output_type": "stream",
          "name": "stdout",
          "text": [
            "Enter the numerator: 60\n",
            "Enter the denominator: 0\n",
            "Error: Division by zero\n"
          ]
        }
      ]
    },
    {
      "cell_type": "markdown",
      "source": [
        "### **b. Program to convert a string to an integer:**\n",
        "\n",
        "\n",
        "\n",
        "\n",
        "\n"
      ],
      "metadata": {
        "id": "sm_PLC2uNX5A"
      }
    },
    {
      "cell_type": "code",
      "source": [
        "try:\n",
        "    string_input = input(\"Enter an integer: \")\n",
        "    integer_value = int(string_input)\n",
        "    print(\"Successfully converted to integer:\", integer_value)\n",
        "except ValueError:\n",
        "    print(\"Error: Invalid input. Please enter a valid integer.\")"
      ],
      "metadata": {
        "colab": {
          "base_uri": "https://localhost:8080/"
        },
        "id": "KvXJ3Be7NZqF",
        "outputId": "6dacfb04-80d3-4bc1-cc1c-5d457fd1bc48"
      },
      "execution_count": 9,
      "outputs": [
        {
          "output_type": "stream",
          "name": "stdout",
          "text": [
            "Enter an integer: hhelo\n",
            "Error: Invalid input. Please enter a valid integer.\n"
          ]
        }
      ]
    },
    {
      "cell_type": "markdown",
      "source": [
        "### **c. Program to access an element in a list:**\n"
      ],
      "metadata": {
        "id": "_dSW80l7Nnc5"
      }
    },
    {
      "cell_type": "code",
      "source": [
        "my_list = [1, 2, 3, 4, 5]\n",
        "try:\n",
        "    index = int(input(\"Enter an index: \"))\n",
        "    element = my_list[index]\n",
        "    print(\"Element at index\", index, \":\", element)\n",
        "except IndexError:\n",
        "    print(\"Error: Index out of range\")\n",
        "except ValueError:\n",
        "    print(\"Error: Invalid input. Please enter a valid index.\")"
      ],
      "metadata": {
        "colab": {
          "base_uri": "https://localhost:8080/"
        },
        "id": "2B-rLz6QNxsq",
        "outputId": "98bd1ece-43e1-4c46-9910-5e1f5020128b"
      },
      "execution_count": 10,
      "outputs": [
        {
          "output_type": "stream",
          "name": "stdout",
          "text": [
            "Enter an index: 8\n",
            "Error: Index out of range\n"
          ]
        }
      ]
    },
    {
      "cell_type": "markdown",
      "source": [
        "### **d. Program to handle a specific exception (ValueError in this case):**\n",
        "\n",
        "\n",
        "\n"
      ],
      "metadata": {
        "id": "IPmm4N5sN1uD"
      }
    },
    {
      "cell_type": "code",
      "source": [
        "try:\n",
        "    age = int(input(\"Enter your age: \"))\n",
        "    if age < 0:\n",
        "        raise ValueError(\"Age cannot be negative\")\n",
        "    print(\"Your age:\", age)\n",
        "except ValueError as ve:\n",
        "    print(\"Error:\", ve)"
      ],
      "metadata": {
        "colab": {
          "base_uri": "https://localhost:8080/"
        },
        "id": "GLNb46T3N-ZP",
        "outputId": "2197092a-af12-4c5d-c698-bfefff6afab9"
      },
      "execution_count": 11,
      "outputs": [
        {
          "output_type": "stream",
          "name": "stdout",
          "text": [
            "Enter your age: 98\n",
            "Your age: 98\n"
          ]
        }
      ]
    },
    {
      "cell_type": "markdown",
      "source": [
        "### **e. Program to handle any exception:**\n",
        "\n",
        "\n"
      ],
      "metadata": {
        "id": "gJ9CjU6tOBaJ"
      }
    },
    {
      "cell_type": "code",
      "source": [
        "try:\n",
        "    x = 10 / 0  # This will raise a ZeroDivisionError\n",
        "except Exception as e:\n",
        "    print(\"An error occurred:\", e)"
      ],
      "metadata": {
        "colab": {
          "base_uri": "https://localhost:8080/"
        },
        "id": "g3-57YtZOH-z",
        "outputId": "e3b23d61-6c65-40d5-ee13-a1d51ca91924"
      },
      "execution_count": 12,
      "outputs": [
        {
          "output_type": "stream",
          "name": "stdout",
          "text": [
            "An error occurred: division by zero\n"
          ]
        }
      ]
    }
  ]
}